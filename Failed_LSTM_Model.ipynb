{
 "cells": [
  {
   "cell_type": "code",
   "execution_count": null,
   "metadata": {},
   "outputs": [],
   "source": [
    "import numpy as np\n",
    "import pandas as pd\n",
    "import tqdm\n",
    "import tensorflow as tf\n",
    "from tensorflow.keras.models import Sequential\n",
    "from tensorflow.keras.layers import LSTM, Dense, Dropout, Masking\n",
    "import matplotlib.pyplot as plt\n",
    "from sklearn.preprocessing import MinMaxScaler"
   ]
  },
  {
   "cell_type": "code",
   "execution_count": null,
   "metadata": {},
   "outputs": [
    {
     "data": {
      "text/html": [
       "<div>\n",
       "<style scoped>\n",
       "    .dataframe tbody tr th:only-of-type {\n",
       "        vertical-align: middle;\n",
       "    }\n",
       "\n",
       "    .dataframe tbody tr th {\n",
       "        vertical-align: top;\n",
       "    }\n",
       "\n",
       "    .dataframe thead th {\n",
       "        text-align: right;\n",
       "    }\n",
       "</style>\n",
       "<table border=\"1\" class=\"dataframe\">\n",
       "  <thead>\n",
       "    <tr style=\"text-align: right;\">\n",
       "      <th></th>\n",
       "      <th>timestamp</th>\n",
       "      <th>open</th>\n",
       "      <th>high</th>\n",
       "      <th>low</th>\n",
       "      <th>close</th>\n",
       "      <th>volume</th>\n",
       "      <th>sentiment</th>\n",
       "    </tr>\n",
       "  </thead>\n",
       "  <tbody>\n",
       "    <tr>\n",
       "      <th>0</th>\n",
       "      <td>1999-11-01</td>\n",
       "      <td>80.00</td>\n",
       "      <td>80.69</td>\n",
       "      <td>77.37</td>\n",
       "      <td>77.62</td>\n",
       "      <td>2487300</td>\n",
       "      <td>NaN</td>\n",
       "    </tr>\n",
       "    <tr>\n",
       "      <th>1</th>\n",
       "      <td>1999-11-02</td>\n",
       "      <td>78.00</td>\n",
       "      <td>81.69</td>\n",
       "      <td>77.31</td>\n",
       "      <td>80.25</td>\n",
       "      <td>3564600</td>\n",
       "      <td>NaN</td>\n",
       "    </tr>\n",
       "    <tr>\n",
       "      <th>2</th>\n",
       "      <td>1999-11-03</td>\n",
       "      <td>81.62</td>\n",
       "      <td>83.25</td>\n",
       "      <td>81.00</td>\n",
       "      <td>81.50</td>\n",
       "      <td>2932700</td>\n",
       "      <td>NaN</td>\n",
       "    </tr>\n",
       "    <tr>\n",
       "      <th>3</th>\n",
       "      <td>1999-11-04</td>\n",
       "      <td>82.06</td>\n",
       "      <td>85.37</td>\n",
       "      <td>80.62</td>\n",
       "      <td>83.62</td>\n",
       "      <td>3384700</td>\n",
       "      <td>NaN</td>\n",
       "    </tr>\n",
       "    <tr>\n",
       "      <th>4</th>\n",
       "      <td>1999-11-05</td>\n",
       "      <td>84.62</td>\n",
       "      <td>88.37</td>\n",
       "      <td>84.00</td>\n",
       "      <td>88.31</td>\n",
       "      <td>3721500</td>\n",
       "      <td>NaN</td>\n",
       "    </tr>\n",
       "    <tr>\n",
       "      <th>...</th>\n",
       "      <td>...</td>\n",
       "      <td>...</td>\n",
       "      <td>...</td>\n",
       "      <td>...</td>\n",
       "      <td>...</td>\n",
       "      <td>...</td>\n",
       "      <td>...</td>\n",
       "    </tr>\n",
       "    <tr>\n",
       "      <th>6190</th>\n",
       "      <td>2024-06-10</td>\n",
       "      <td>196.90</td>\n",
       "      <td>197.30</td>\n",
       "      <td>192.15</td>\n",
       "      <td>193.12</td>\n",
       "      <td>97262077</td>\n",
       "      <td>-0.045220</td>\n",
       "    </tr>\n",
       "    <tr>\n",
       "      <th>6191</th>\n",
       "      <td>2024-06-11</td>\n",
       "      <td>193.65</td>\n",
       "      <td>207.16</td>\n",
       "      <td>193.63</td>\n",
       "      <td>207.15</td>\n",
       "      <td>172373296</td>\n",
       "      <td>0.085237</td>\n",
       "    </tr>\n",
       "    <tr>\n",
       "      <th>6192</th>\n",
       "      <td>2024-06-12</td>\n",
       "      <td>207.37</td>\n",
       "      <td>220.20</td>\n",
       "      <td>206.90</td>\n",
       "      <td>213.07</td>\n",
       "      <td>198134293</td>\n",
       "      <td>0.131361</td>\n",
       "    </tr>\n",
       "    <tr>\n",
       "      <th>6193</th>\n",
       "      <td>2024-06-13</td>\n",
       "      <td>214.74</td>\n",
       "      <td>216.75</td>\n",
       "      <td>211.60</td>\n",
       "      <td>214.24</td>\n",
       "      <td>97862729</td>\n",
       "      <td>0.008962</td>\n",
       "    </tr>\n",
       "    <tr>\n",
       "      <th>6194</th>\n",
       "      <td>2024-06-14</td>\n",
       "      <td>213.85</td>\n",
       "      <td>215.17</td>\n",
       "      <td>211.30</td>\n",
       "      <td>212.49</td>\n",
       "      <td>70122748</td>\n",
       "      <td>-0.062487</td>\n",
       "    </tr>\n",
       "  </tbody>\n",
       "</table>\n",
       "<p>6195 rows × 7 columns</p>\n",
       "</div>"
      ],
      "text/plain": [
       "       timestamp    open    high     low   close     volume  sentiment\n",
       "0     1999-11-01   80.00   80.69   77.37   77.62    2487300        NaN\n",
       "1     1999-11-02   78.00   81.69   77.31   80.25    3564600        NaN\n",
       "2     1999-11-03   81.62   83.25   81.00   81.50    2932700        NaN\n",
       "3     1999-11-04   82.06   85.37   80.62   83.62    3384700        NaN\n",
       "4     1999-11-05   84.62   88.37   84.00   88.31    3721500        NaN\n",
       "...          ...     ...     ...     ...     ...        ...        ...\n",
       "6190  2024-06-10  196.90  197.30  192.15  193.12   97262077  -0.045220\n",
       "6191  2024-06-11  193.65  207.16  193.63  207.15  172373296   0.085237\n",
       "6192  2024-06-12  207.37  220.20  206.90  213.07  198134293   0.131361\n",
       "6193  2024-06-13  214.74  216.75  211.60  214.24   97862729   0.008962\n",
       "6194  2024-06-14  213.85  215.17  211.30  212.49   70122748  -0.062487\n",
       "\n",
       "[6195 rows x 7 columns]"
      ]
     },
     "metadata": {},
     "output_type": "display_data"
    }
   ],
   "source": [
    "# THIS REMOVES ARTICLES WRITTEN ON NON-BUSINESS DAYS\n",
    "\n",
    "hist_df = pd.read_csv('data/AAPL_2024-06-16.csv')\n",
    "sent_df = pd.read_csv('data/AAPL_sent.csv')\n",
    "df = pd.merge(hist_df, sent_df, left_on='timestamp', right_on='date', how='left')\n",
    "df = df[['timestamp','open','high','low','close','volume','compound']]\n",
    "df.rename(columns={'compound': 'sentiment'}, inplace=True)\n",
    "df"
   ]
  },
  {
   "cell_type": "code",
   "execution_count": null,
   "metadata": {},
   "outputs": [],
   "source": [
    "def create_sequences(data, seq_length):\n",
    "    sequences = []\n",
    "    for i in range(len(data) - seq_length):\n",
    "        seq = data[i:i + seq_length]\n",
    "        sequences.append(seq)\n",
    "    return np.array(sequences)"
   ]
  },
  {
   "cell_type": "code",
   "execution_count": null,
   "metadata": {},
   "outputs": [],
   "source": [
    "def split_data(data, training_split, features):\n",
    "  split_row = int(data.shape[0]*training_split)\n",
    "  training_set = data[features].iloc[:split_row].values\n",
    "  testing_set = data[features].iloc[split_row:].values\n",
    "  return training_set, testing_set\n",
    "\n",
    "\n",
    "def get_x_y(dataset, window_size, label_feature, feature_count):\n",
    "  X, y = [], []\n",
    "  for i in range(window_size, len(dataset)):\n",
    "    X.append(dataset[i-window_size:i])\n",
    "    y.append(dataset[i, label_feature])\n",
    "\n",
    "  X, y = np.array(X), np.array(y)\n",
    "  X = np.reshape(X, (X.shape[0], window_size, feature_count))\n",
    "  return X, y"
   ]
  },
  {
   "cell_type": "code",
   "execution_count": null,
   "metadata": {},
   "outputs": [
    {
     "name": "stdout",
     "output_type": "stream",
     "text": [
      "training_set:  (4956, 6)\n",
      "testing_set:  (1239, 6)\n"
     ]
    },
    {
     "name": "stderr",
     "output_type": "stream",
     "text": [
      "C:\\Users\\blkeu\\AppData\\Local\\Temp\\ipykernel_5424\\3437369799.py:4: FutureWarning: A value is trying to be set on a copy of a DataFrame or Series through chained assignment using an inplace method.\n",
      "The behavior will change in pandas 3.0. This inplace method will never work because the intermediate object on which we are setting values always behaves as a copy.\n",
      "\n",
      "For example, when doing 'df[col].method(value, inplace=True)', try using 'df.method({col: value}, inplace=True)' or df[col] = df[col].method(value) instead, to perform the operation inplace on the original object.\n",
      "\n",
      "\n",
      "  df['sentiment'].fillna(temp_placeholder_value, inplace=True)\n"
     ]
    }
   ],
   "source": [
    "# Replace NaNs with a temporary placeholder for scaling\n",
    "placeholder_value = -2\n",
    "temp_placeholder_value = -99999  # A value that won't interfere with scaling\n",
    "df['sentiment'].fillna(temp_placeholder_value, inplace=True)\n",
    "\n",
    "# Split data into training and testing\n",
    "training_set, testing_set = split_data(df, 0.8, ['open', 'high', 'low', 'close', 'volume', 'sentiment'])\n",
    "print(\"training_set: \", training_set.shape)\n",
    "print(\"testing_set: \", testing_set.shape)"
   ]
  },
  {
   "cell_type": "code",
   "execution_count": null,
   "metadata": {},
   "outputs": [],
   "source": [
    "# Example data preparation\n",
    "scaler = MinMaxScaler()\n",
    "\n",
    "def scale_data(dataset, temp_placeholder_value):\n",
    "    mask = dataset[:, -1] != temp_placeholder_value\n",
    "    dataset[mask] = scaler.fit_transform(dataset[mask])\n",
    "    return dataset\n",
    "\n",
    "training_set = scale_data(training_set, temp_placeholder_value)\n",
    "testing_set = scale_data(testing_set, temp_placeholder_value)\n",
    "\n",
    "# Replace the temporary placeholder with the actual placeholder\n",
    "training_set[training_set == temp_placeholder_value] = placeholder_value\n",
    "testing_set[testing_set == temp_placeholder_value] = placeholder_value\n",
    "\n",
    "# training_set = scaler.fit_transform(training_set)\n",
    "# testing_set = scaler.fit_transform(testing_set)"
   ]
  },
  {
   "cell_type": "code",
   "execution_count": null,
   "metadata": {},
   "outputs": [
    {
     "name": "stdout",
     "output_type": "stream",
     "text": [
      "X_train:  (3953, 14, 6)\n",
      "y_train:  (3953,)\n",
      "X_val:  (989, 14, 6)\n",
      "y_val:  (989,)\n"
     ]
    }
   ],
   "source": [
    "X_train, y_train = get_x_y(training_set, 14, 4, 6)\n",
    "val_split_row = int(X_train.shape[0]*0.8) # 20% will be used for validation\n",
    "X_train, X_val = X_train[:val_split_row], X_train[val_split_row:]\n",
    "y_train, y_val = y_train[:val_split_row], y_train[val_split_row:]\n",
    "print(\"X_train: \", X_train.shape)\n",
    "print(\"y_train: \", y_train.shape)\n",
    "print(\"X_val: \", X_val.shape)\n",
    "print(\"y_val: \", y_val.shape)"
   ]
  },
  {
   "cell_type": "code",
   "execution_count": null,
   "metadata": {},
   "outputs": [
    {
     "data": {
      "text/plain": [
       "array([[[ 8.00000000e+01,  8.06900000e+01,  7.73700000e+01,\n",
       "          7.76200000e+01,  2.48730000e+06, -2.00000000e+00],\n",
       "        [ 7.80000000e+01,  8.16900000e+01,  7.73100000e+01,\n",
       "          8.02500000e+01,  3.56460000e+06, -2.00000000e+00],\n",
       "        [ 8.16200000e+01,  8.32500000e+01,  8.10000000e+01,\n",
       "          8.15000000e+01,  2.93270000e+06, -2.00000000e+00],\n",
       "        ...,\n",
       "        [ 9.00000000e+01,  9.17500000e+01,  8.85000000e+01,\n",
       "          9.11900000e+01,  2.08800000e+06, -2.00000000e+00],\n",
       "        [ 9.06900000e+01,  9.47500000e+01,  9.00000000e+01,\n",
       "          9.02500000e+01,  3.25510000e+06, -2.00000000e+00],\n",
       "        [ 9.10600000e+01,  9.11200000e+01,  8.84400000e+01,\n",
       "          8.96200000e+01,  3.25700000e+06, -2.00000000e+00]],\n",
       "\n",
       "       [[ 7.80000000e+01,  8.16900000e+01,  7.73100000e+01,\n",
       "          8.02500000e+01,  3.56460000e+06, -2.00000000e+00],\n",
       "        [ 8.16200000e+01,  8.32500000e+01,  8.10000000e+01,\n",
       "          8.15000000e+01,  2.93270000e+06, -2.00000000e+00],\n",
       "        [ 8.20600000e+01,  8.53700000e+01,  8.06200000e+01,\n",
       "          8.36200000e+01,  3.38470000e+06, -2.00000000e+00],\n",
       "        ...,\n",
       "        [ 9.06900000e+01,  9.47500000e+01,  9.00000000e+01,\n",
       "          9.02500000e+01,  3.25510000e+06, -2.00000000e+00],\n",
       "        [ 9.10600000e+01,  9.11200000e+01,  8.84400000e+01,\n",
       "          8.96200000e+01,  3.25700000e+06, -2.00000000e+00],\n",
       "        [ 8.95000000e+01,  9.28700000e+01,  8.80600000e+01,\n",
       "          9.24400000e+01,  2.79030000e+06, -2.00000000e+00]],\n",
       "\n",
       "       [[ 8.16200000e+01,  8.32500000e+01,  8.10000000e+01,\n",
       "          8.15000000e+01,  2.93270000e+06, -2.00000000e+00],\n",
       "        [ 8.20600000e+01,  8.53700000e+01,  8.06200000e+01,\n",
       "          8.36200000e+01,  3.38470000e+06, -2.00000000e+00],\n",
       "        [ 8.46200000e+01,  8.83700000e+01,  8.40000000e+01,\n",
       "          8.83100000e+01,  3.72150000e+06, -2.00000000e+00],\n",
       "        ...,\n",
       "        [ 9.10600000e+01,  9.11200000e+01,  8.84400000e+01,\n",
       "          8.96200000e+01,  3.25700000e+06, -2.00000000e+00],\n",
       "        [ 8.95000000e+01,  9.28700000e+01,  8.80600000e+01,\n",
       "          9.24400000e+01,  2.79030000e+06, -2.00000000e+00],\n",
       "        [ 9.17500000e+01,  9.17500000e+01,  8.92500000e+01,\n",
       "          9.06200000e+01,  1.80680000e+06, -2.00000000e+00]],\n",
       "\n",
       "       ...,\n",
       "\n",
       "       [[ 2.68077852e-01,  2.60225670e-01,  2.69973630e-01,\n",
       "          2.69314895e-01,  1.64808420e-01,  4.49286112e-01],\n",
       "        [ 2.77596249e-01,  2.67630465e-01,  2.76815623e-01,\n",
       "          2.77146687e-01,  2.30719207e-01,  4.80066753e-01],\n",
       "        [ 2.91021452e-01,  2.91255289e-01,  2.93849334e-01,\n",
       "          2.94433077e-01,  3.15147306e-01,  4.89832499e-01],\n",
       "        ...,\n",
       "        [ 2.31566984e-01,  2.18423836e-01,  2.24075262e-01,\n",
       "          2.18443519e-01,  2.08976535e-01,  5.07460288e-01],\n",
       "        [ 2.23753374e-01,  2.17912553e-01,  1.99914475e-01,\n",
       "          1.98264305e-01,  3.88572479e-01,  2.26033747e-01],\n",
       "        [ 1.94771985e-01,  1.83568406e-01,  1.69481862e-01,\n",
       "          1.71452762e-01,  7.47635924e-01,  4.11476959e-01]],\n",
       "\n",
       "       [[ 2.77596249e-01,  2.67630465e-01,  2.76815623e-01,\n",
       "          2.77146687e-01,  2.30719207e-01,  4.80066753e-01],\n",
       "        [ 2.91021452e-01,  2.91255289e-01,  2.93849334e-01,\n",
       "          2.94433077e-01,  3.15147306e-01,  4.89832499e-01],\n",
       "        [ 3.04375622e-01,  2.90902680e-01,  2.91141045e-01,\n",
       "          2.85119594e-01,  4.33522546e-01,  4.61187685e-01],\n",
       "        ...,\n",
       "        [ 2.23753374e-01,  2.17912553e-01,  1.99914475e-01,\n",
       "          1.98264305e-01,  3.88572479e-01,  2.26033747e-01],\n",
       "        [ 1.94771985e-01,  1.83568406e-01,  1.69481862e-01,\n",
       "          1.71452762e-01,  7.47635924e-01,  4.11476959e-01],\n",
       "        [ 1.63020315e-01,  1.81734838e-01,  1.61285724e-01,\n",
       "          1.76815071e-01,  5.76902452e-01,  4.66379600e-01]],\n",
       "\n",
       "       [[ 2.91021452e-01,  2.91255289e-01,  2.93849334e-01,\n",
       "          2.94433077e-01,  3.15147306e-01,  4.89832499e-01],\n",
       "        [ 3.04375622e-01,  2.90902680e-01,  2.91141045e-01,\n",
       "          2.85119594e-01,  4.33522546e-01,  4.61187685e-01],\n",
       "        [ 2.27233982e-01,  2.38575458e-01,  2.31772504e-01,\n",
       "          2.46101743e-01,  6.90039985e-01,  5.14834044e-01],\n",
       "        ...,\n",
       "        [ 1.94771985e-01,  1.83568406e-01,  1.69481862e-01,\n",
       "          1.71452762e-01,  7.47635924e-01,  4.11476959e-01],\n",
       "        [ 1.63020315e-01,  1.81734838e-01,  1.61285724e-01,\n",
       "          1.76815071e-01,  5.76902452e-01,  4.66379600e-01],\n",
       "        [ 1.84472226e-01,  1.75105783e-01,  1.75646782e-01,\n",
       "          1.74910040e-01,  2.75389986e-01,  4.74785559e-01]]])"
      ]
     },
     "metadata": {},
     "output_type": "display_data"
    }
   ],
   "source": [
    "X_train"
   ]
  },
  {
   "cell_type": "code",
   "execution_count": null,
   "metadata": {},
   "outputs": [],
   "source": [
    "# seq_length = 60  # Example sequence length\n",
    "# sequences = create_sequences(data, seq_length)"
   ]
  },
  {
   "cell_type": "code",
   "execution_count": null,
   "metadata": {},
   "outputs": [],
   "source": [
    "# # Creating mask for missing sentiment values\n",
    "# sentiment_column_index = 5\n",
    "# mask = np.isnan(sequences[:, :, sentiment_column_index])\n",
    "\n",
    "# # Replacing NaNs with a placeholder (e.g., -2) that will be masked out\n",
    "# sequences[:, :, sentiment_column_index] = np.nan_to_num(sequences[:, :, sentiment_column_index], nan=-2)\n",
    "\n",
    "# X = sequences[:, :-1, :]\n",
    "# y = sequences[:, -1, 3]  # Example: predicting the 'close' price"
   ]
  },
  {
   "cell_type": "code",
   "execution_count": null,
   "metadata": {},
   "outputs": [],
   "source": [
    "# split = int(0.8 * len(X))\n",
    "# X_train, X_test = X[:split], X[split:]\n",
    "# y_train, y_test = y[:split], y[split:]\n",
    "# mask_train, mask_test = mask[:split, :-1], mask[split:, :-1]"
   ]
  },
  {
   "cell_type": "code",
   "execution_count": null,
   "metadata": {},
   "outputs": [],
   "source": [
    "# placeholder_value = -2\n",
    "# X_train[:, :, 5][np.isnan(X_train[:, :, 5])] = placeholder_value\n",
    "# X_test[:, :, 5][np.isnan(X_test[:, :, 5])] = placeholder_value\n",
    "\n",
    "# # Create mask arrays: True where sentiment is placeholder_value, False otherwise\n",
    "# mask_train = (X_train[:, :, 5] == placeholder_value)\n",
    "# mask_test = (X_test[:, :, 5] == placeholder_value)"
   ]
  },
  {
   "cell_type": "code",
   "execution_count": null,
   "metadata": {},
   "outputs": [],
   "source": [
    "# # Custom loss function to ignore masked values\n",
    "# def custom_loss(y_true, y_pred):\n",
    "#     mask = tf.cast(tf.not_equal(y_true, -2), dtype=tf.float32)\n",
    "#     loss = tf.reduce_sum(mask * tf.square(y_true - y_pred)) / tf.reduce_sum(mask)\n",
    "#     return loss\n",
    "\n",
    "def build_model(window_size, feature_count):\n",
    "    d = 0.1\n",
    "    model = Sequential()\n",
    "    model.add(Masking(mask_value=placeholder_value, input_shape=(window_size, feature_count)))\n",
    "    model.add(LSTM(128, input_shape=(window_size, feature_count), return_sequences=True))\n",
    "    model.add(LSTM(32))\n",
    "    model.add(Dropout(d))\n",
    "    model.add(Dense(16, activation=\"relu\", kernel_initializer=\"uniform\"))\n",
    "    model.add(Dense(1, activation=\"relu\", kernel_initializer=\"uniform\"))\n",
    "    model.compile(loss='mse', optimizer='adam', metrics=['mae'])\n",
    "    # model.compile(optimizer='adam', loss=custom_loss)\n",
    "    return model"
   ]
  },
  {
   "cell_type": "code",
   "execution_count": null,
   "metadata": {},
   "outputs": [
    {
     "name": "stderr",
     "output_type": "stream",
     "text": [
      "c:\\Users\\blkeu\\anaconda3\\envs\\CS172B311\\Lib\\site-packages\\keras\\src\\layers\\core\\masking.py:47: UserWarning: Do not pass an `input_shape`/`input_dim` argument to a layer. When using Sequential models, prefer using an `Input(shape)` object as the first layer in the model instead.\n",
      "  super().__init__(**kwargs)\n",
      "c:\\Users\\blkeu\\anaconda3\\envs\\CS172B311\\Lib\\site-packages\\keras\\src\\layers\\rnn\\rnn.py:204: UserWarning: Do not pass an `input_shape`/`input_dim` argument to a layer. When using Sequential models, prefer using an `Input(shape)` object as the first layer in the model instead.\n",
      "  super().__init__(**kwargs)\n"
     ]
    },
    {
     "data": {
      "text/html": [
       "<pre style=\"white-space:pre;overflow-x:auto;line-height:normal;font-family:Menlo,'DejaVu Sans Mono',consolas,'Courier New',monospace\"><span style=\"font-weight: bold\">Model: \"sequential\"</span>\n",
       "</pre>\n"
      ],
      "text/plain": [
       "\u001b[1mModel: \"sequential\"\u001b[0m\n"
      ]
     },
     "metadata": {},
     "output_type": "display_data"
    },
    {
     "data": {
      "text/html": [
       "<pre style=\"white-space:pre;overflow-x:auto;line-height:normal;font-family:Menlo,'DejaVu Sans Mono',consolas,'Courier New',monospace\">┏━━━━━━━━━━━━━━━━━━━━━━━━━━━━━━━━━┳━━━━━━━━━━━━━━━━━━━━━━━━┳━━━━━━━━━━━━━━━┓\n",
       "┃<span style=\"font-weight: bold\"> Layer (type)                    </span>┃<span style=\"font-weight: bold\"> Output Shape           </span>┃<span style=\"font-weight: bold\">       Param # </span>┃\n",
       "┡━━━━━━━━━━━━━━━━━━━━━━━━━━━━━━━━━╇━━━━━━━━━━━━━━━━━━━━━━━━╇━━━━━━━━━━━━━━━┩\n",
       "│ masking (<span style=\"color: #0087ff; text-decoration-color: #0087ff\">Masking</span>)               │ (<span style=\"color: #00d7ff; text-decoration-color: #00d7ff\">None</span>, <span style=\"color: #00af00; text-decoration-color: #00af00\">60</span>, <span style=\"color: #00af00; text-decoration-color: #00af00\">6</span>)          │             <span style=\"color: #00af00; text-decoration-color: #00af00\">0</span> │\n",
       "├─────────────────────────────────┼────────────────────────┼───────────────┤\n",
       "│ lstm (<span style=\"color: #0087ff; text-decoration-color: #0087ff\">LSTM</span>)                     │ (<span style=\"color: #00d7ff; text-decoration-color: #00d7ff\">None</span>, <span style=\"color: #00af00; text-decoration-color: #00af00\">60</span>, <span style=\"color: #00af00; text-decoration-color: #00af00\">128</span>)        │        <span style=\"color: #00af00; text-decoration-color: #00af00\">69,120</span> │\n",
       "├─────────────────────────────────┼────────────────────────┼───────────────┤\n",
       "│ lstm_1 (<span style=\"color: #0087ff; text-decoration-color: #0087ff\">LSTM</span>)                   │ (<span style=\"color: #00d7ff; text-decoration-color: #00d7ff\">None</span>, <span style=\"color: #00af00; text-decoration-color: #00af00\">32</span>)             │        <span style=\"color: #00af00; text-decoration-color: #00af00\">20,608</span> │\n",
       "├─────────────────────────────────┼────────────────────────┼───────────────┤\n",
       "│ dropout (<span style=\"color: #0087ff; text-decoration-color: #0087ff\">Dropout</span>)               │ (<span style=\"color: #00d7ff; text-decoration-color: #00d7ff\">None</span>, <span style=\"color: #00af00; text-decoration-color: #00af00\">32</span>)             │             <span style=\"color: #00af00; text-decoration-color: #00af00\">0</span> │\n",
       "├─────────────────────────────────┼────────────────────────┼───────────────┤\n",
       "│ dense (<span style=\"color: #0087ff; text-decoration-color: #0087ff\">Dense</span>)                   │ (<span style=\"color: #00d7ff; text-decoration-color: #00d7ff\">None</span>, <span style=\"color: #00af00; text-decoration-color: #00af00\">16</span>)             │           <span style=\"color: #00af00; text-decoration-color: #00af00\">528</span> │\n",
       "├─────────────────────────────────┼────────────────────────┼───────────────┤\n",
       "│ dense_1 (<span style=\"color: #0087ff; text-decoration-color: #0087ff\">Dense</span>)                 │ (<span style=\"color: #00d7ff; text-decoration-color: #00d7ff\">None</span>, <span style=\"color: #00af00; text-decoration-color: #00af00\">1</span>)              │            <span style=\"color: #00af00; text-decoration-color: #00af00\">17</span> │\n",
       "└─────────────────────────────────┴────────────────────────┴───────────────┘\n",
       "</pre>\n"
      ],
      "text/plain": [
       "┏━━━━━━━━━━━━━━━━━━━━━━━━━━━━━━━━━┳━━━━━━━━━━━━━━━━━━━━━━━━┳━━━━━━━━━━━━━━━┓\n",
       "┃\u001b[1m \u001b[0m\u001b[1mLayer (type)                   \u001b[0m\u001b[1m \u001b[0m┃\u001b[1m \u001b[0m\u001b[1mOutput Shape          \u001b[0m\u001b[1m \u001b[0m┃\u001b[1m \u001b[0m\u001b[1m      Param #\u001b[0m\u001b[1m \u001b[0m┃\n",
       "┡━━━━━━━━━━━━━━━━━━━━━━━━━━━━━━━━━╇━━━━━━━━━━━━━━━━━━━━━━━━╇━━━━━━━━━━━━━━━┩\n",
       "│ masking (\u001b[38;5;33mMasking\u001b[0m)               │ (\u001b[38;5;45mNone\u001b[0m, \u001b[38;5;34m60\u001b[0m, \u001b[38;5;34m6\u001b[0m)          │             \u001b[38;5;34m0\u001b[0m │\n",
       "├─────────────────────────────────┼────────────────────────┼───────────────┤\n",
       "│ lstm (\u001b[38;5;33mLSTM\u001b[0m)                     │ (\u001b[38;5;45mNone\u001b[0m, \u001b[38;5;34m60\u001b[0m, \u001b[38;5;34m128\u001b[0m)        │        \u001b[38;5;34m69,120\u001b[0m │\n",
       "├─────────────────────────────────┼────────────────────────┼───────────────┤\n",
       "│ lstm_1 (\u001b[38;5;33mLSTM\u001b[0m)                   │ (\u001b[38;5;45mNone\u001b[0m, \u001b[38;5;34m32\u001b[0m)             │        \u001b[38;5;34m20,608\u001b[0m │\n",
       "├─────────────────────────────────┼────────────────────────┼───────────────┤\n",
       "│ dropout (\u001b[38;5;33mDropout\u001b[0m)               │ (\u001b[38;5;45mNone\u001b[0m, \u001b[38;5;34m32\u001b[0m)             │             \u001b[38;5;34m0\u001b[0m │\n",
       "├─────────────────────────────────┼────────────────────────┼───────────────┤\n",
       "│ dense (\u001b[38;5;33mDense\u001b[0m)                   │ (\u001b[38;5;45mNone\u001b[0m, \u001b[38;5;34m16\u001b[0m)             │           \u001b[38;5;34m528\u001b[0m │\n",
       "├─────────────────────────────────┼────────────────────────┼───────────────┤\n",
       "│ dense_1 (\u001b[38;5;33mDense\u001b[0m)                 │ (\u001b[38;5;45mNone\u001b[0m, \u001b[38;5;34m1\u001b[0m)              │            \u001b[38;5;34m17\u001b[0m │\n",
       "└─────────────────────────────────┴────────────────────────┴───────────────┘\n"
      ]
     },
     "metadata": {},
     "output_type": "display_data"
    },
    {
     "data": {
      "text/html": [
       "<pre style=\"white-space:pre;overflow-x:auto;line-height:normal;font-family:Menlo,'DejaVu Sans Mono',consolas,'Courier New',monospace\"><span style=\"font-weight: bold\"> Total params: </span><span style=\"color: #00af00; text-decoration-color: #00af00\">90,273</span> (352.63 KB)\n",
       "</pre>\n"
      ],
      "text/plain": [
       "\u001b[1m Total params: \u001b[0m\u001b[38;5;34m90,273\u001b[0m (352.63 KB)\n"
      ]
     },
     "metadata": {},
     "output_type": "display_data"
    },
    {
     "data": {
      "text/html": [
       "<pre style=\"white-space:pre;overflow-x:auto;line-height:normal;font-family:Menlo,'DejaVu Sans Mono',consolas,'Courier New',monospace\"><span style=\"font-weight: bold\"> Trainable params: </span><span style=\"color: #00af00; text-decoration-color: #00af00\">90,273</span> (352.63 KB)\n",
       "</pre>\n"
      ],
      "text/plain": [
       "\u001b[1m Trainable params: \u001b[0m\u001b[38;5;34m90,273\u001b[0m (352.63 KB)\n"
      ]
     },
     "metadata": {},
     "output_type": "display_data"
    },
    {
     "data": {
      "text/html": [
       "<pre style=\"white-space:pre;overflow-x:auto;line-height:normal;font-family:Menlo,'DejaVu Sans Mono',consolas,'Courier New',monospace\"><span style=\"font-weight: bold\"> Non-trainable params: </span><span style=\"color: #00af00; text-decoration-color: #00af00\">0</span> (0.00 B)\n",
       "</pre>\n"
      ],
      "text/plain": [
       "\u001b[1m Non-trainable params: \u001b[0m\u001b[38;5;34m0\u001b[0m (0.00 B)\n"
      ]
     },
     "metadata": {},
     "output_type": "display_data"
    }
   ],
   "source": [
    "window_size = 60  # Example window size\n",
    "feature_count = 6  # Number of features (e.g., open, high, low, close, volume, sentiment)\n",
    "model = build_model(window_size, feature_count)\n",
    "model.summary()"
   ]
  },
  {
   "cell_type": "code",
   "execution_count": null,
   "metadata": {},
   "outputs": [
    {
     "name": "stdout",
     "output_type": "stream",
     "text": [
      "Epoch 1/25\n",
      "\u001b[1m99/99\u001b[0m \u001b[32m━━━━━━━━━━━━━━━━━━━━\u001b[0m\u001b[37m\u001b[0m \u001b[1m5s\u001b[0m 12ms/step - loss: 564915773374464.0000 - mae: 18336624.0000 - val_loss: 742857744842752.0000 - val_mae: 18699620.0000\n",
      "Epoch 2/25\n",
      "\u001b[1m99/99\u001b[0m \u001b[32m━━━━━━━━━━━━━━━━━━━━\u001b[0m\u001b[37m\u001b[0m \u001b[1m1s\u001b[0m 9ms/step - loss: 543278298562560.0000 - mae: 18066092.0000 - val_loss: 742856939536384.0000 - val_mae: 18699606.0000\n",
      "Epoch 3/25\n",
      "\u001b[1m99/99\u001b[0m \u001b[32m━━━━━━━━━━━━━━━━━━━━\u001b[0m\u001b[37m\u001b[0m \u001b[1m1s\u001b[0m 9ms/step - loss: 554044976267264.0000 - mae: 18266376.0000 - val_loss: 742855396032512.0000 - val_mae: 18699582.0000\n",
      "Epoch 4/25\n",
      "\u001b[1m99/99\u001b[0m \u001b[32m━━━━━━━━━━━━━━━━━━━━\u001b[0m\u001b[37m\u001b[0m \u001b[1m1s\u001b[0m 9ms/step - loss: 566461827383296.0000 - mae: 18251066.0000 - val_loss: 742853181440000.0000 - val_mae: 18699544.0000\n",
      "Epoch 5/25\n",
      "\u001b[1m99/99\u001b[0m \u001b[32m━━━━━━━━━━━━━━━━━━━━\u001b[0m\u001b[37m\u001b[0m \u001b[1m1s\u001b[0m 8ms/step - loss: 560803207970816.0000 - mae: 18267812.0000 - val_loss: 742850497085440.0000 - val_mae: 18699494.0000\n",
      "Epoch 6/25\n",
      "\u001b[1m99/99\u001b[0m \u001b[32m━━━━━━━━━━━━━━━━━━━━\u001b[0m\u001b[37m\u001b[0m \u001b[1m1s\u001b[0m 8ms/step - loss: 545332165345280.0000 - mae: 18134980.0000 - val_loss: 742847141642240.0000 - val_mae: 18699434.0000\n",
      "Epoch 7/25\n",
      "\u001b[1m99/99\u001b[0m \u001b[32m━━━━━━━━━━━━━━━━━━━━\u001b[0m\u001b[37m\u001b[0m \u001b[1m1s\u001b[0m 8ms/step - loss: 569636949065728.0000 - mae: 18416280.0000 - val_loss: 742843115110400.0000 - val_mae: 18699366.0000\n",
      "Epoch 8/25\n",
      "\u001b[1m99/99\u001b[0m \u001b[32m━━━━━━━━━━━━━━━━━━━━\u001b[0m\u001b[37m\u001b[0m \u001b[1m1s\u001b[0m 8ms/step - loss: 577126835159040.0000 - mae: 18384800.0000 - val_loss: 742838685925376.0000 - val_mae: 18699292.0000\n",
      "Epoch 9/25\n",
      "\u001b[1m99/99\u001b[0m \u001b[32m━━━━━━━━━━━━━━━━━━━━\u001b[0m\u001b[37m\u001b[0m \u001b[1m1s\u001b[0m 8ms/step - loss: 543231221694464.0000 - mae: 17824612.0000 - val_loss: 742833719869440.0000 - val_mae: 18699206.0000\n",
      "Epoch 10/25\n",
      "\u001b[1m99/99\u001b[0m \u001b[32m━━━━━━━━━━━━━━━━━━━━\u001b[0m\u001b[37m\u001b[0m \u001b[1m1s\u001b[0m 9ms/step - loss: 570256967860224.0000 - mae: 18322342.0000 - val_loss: 742828149833728.0000 - val_mae: 18699110.0000\n",
      "Epoch 11/25\n",
      "\u001b[1m99/99\u001b[0m \u001b[32m━━━━━━━━━━━━━━━━━━━━\u001b[0m\u001b[37m\u001b[0m \u001b[1m1s\u001b[0m 9ms/step - loss: 575865859604480.0000 - mae: 18459462.0000 - val_loss: 742822244253696.0000 - val_mae: 18699008.0000\n",
      "Epoch 12/25\n",
      "\u001b[1m99/99\u001b[0m \u001b[32m━━━━━━━━━━━━━━━━━━━━\u001b[0m\u001b[37m\u001b[0m \u001b[1m1s\u001b[0m 8ms/step - loss: 543052376571904.0000 - mae: 17860056.0000 - val_loss: 742815734693888.0000 - val_mae: 18698896.0000\n",
      "Epoch 13/25\n",
      "\u001b[1m99/99\u001b[0m \u001b[32m━━━━━━━━━━━━━━━━━━━━\u001b[0m\u001b[37m\u001b[0m \u001b[1m1s\u001b[0m 8ms/step - loss: 558832723951616.0000 - mae: 18194434.0000 - val_loss: 742808889589760.0000 - val_mae: 18698780.0000\n",
      "Epoch 14/25\n",
      "\u001b[1m99/99\u001b[0m \u001b[32m━━━━━━━━━━━━━━━━━━━━\u001b[0m\u001b[37m\u001b[0m \u001b[1m1s\u001b[0m 9ms/step - loss: 563983161491456.0000 - mae: 18390512.0000 - val_loss: 742801574723584.0000 - val_mae: 18698652.0000\n",
      "Epoch 15/25\n",
      "\u001b[1m99/99\u001b[0m \u001b[32m━━━━━━━━━━━━━━━━━━━━\u001b[0m\u001b[37m\u001b[0m \u001b[1m1s\u001b[0m 8ms/step - loss: 553699030073344.0000 - mae: 18346614.0000 - val_loss: 742793790095360.0000 - val_mae: 18698520.0000\n",
      "Epoch 16/25\n",
      "\u001b[1m99/99\u001b[0m \u001b[32m━━━━━━━━━━━━━━━━━━━━\u001b[0m\u001b[37m\u001b[0m \u001b[1m1s\u001b[0m 8ms/step - loss: 597508334026752.0000 - mae: 18657750.0000 - val_loss: 742785535705088.0000 - val_mae: 18698380.0000\n",
      "Epoch 17/25\n",
      "\u001b[1m99/99\u001b[0m \u001b[32m━━━━━━━━━━━━━━━━━━━━\u001b[0m\u001b[37m\u001b[0m \u001b[1m1s\u001b[0m 9ms/step - loss: 572853208481792.0000 - mae: 18333932.0000 - val_loss: 742776945770496.0000 - val_mae: 18698232.0000\n",
      "Epoch 18/25\n",
      "\u001b[1m99/99\u001b[0m \u001b[32m━━━━━━━━━━━━━━━━━━━━\u001b[0m\u001b[37m\u001b[0m \u001b[1m1s\u001b[0m 8ms/step - loss: 585846155640832.0000 - mae: 18396876.0000 - val_loss: 742767953182720.0000 - val_mae: 18698076.0000\n",
      "Epoch 19/25\n",
      "\u001b[1m99/99\u001b[0m \u001b[32m━━━━━━━━━━━━━━━━━━━━\u001b[0m\u001b[37m\u001b[0m \u001b[1m1s\u001b[0m 8ms/step - loss: 563725195018240.0000 - mae: 18258728.0000 - val_loss: 742758557941760.0000 - val_mae: 18697918.0000\n",
      "Epoch 20/25\n",
      "\u001b[1m99/99\u001b[0m \u001b[32m━━━━━━━━━━━━━━━━━━━━\u001b[0m\u001b[37m\u001b[0m \u001b[1m1s\u001b[0m 8ms/step - loss: 537024054427648.0000 - mae: 17986932.0000 - val_loss: 742748760047616.0000 - val_mae: 18697748.0000\n",
      "Epoch 21/25\n",
      "\u001b[1m99/99\u001b[0m \u001b[32m━━━━━━━━━━━━━━━━━━━━\u001b[0m\u001b[37m\u001b[0m \u001b[1m1s\u001b[0m 8ms/step - loss: 561848965398528.0000 - mae: 18261402.0000 - val_loss: 742738626609152.0000 - val_mae: 18697574.0000\n",
      "Epoch 22/25\n",
      "\u001b[1m99/99\u001b[0m \u001b[32m━━━━━━━━━━━━━━━━━━━━\u001b[0m\u001b[37m\u001b[0m \u001b[1m1s\u001b[0m 8ms/step - loss: 599982369406976.0000 - mae: 18699742.0000 - val_loss: 742728090517504.0000 - val_mae: 18697396.0000\n",
      "Epoch 23/25\n",
      "\u001b[1m99/99\u001b[0m \u001b[32m━━━━━━━━━━━━━━━━━━━━\u001b[0m\u001b[37m\u001b[0m \u001b[1m1s\u001b[0m 8ms/step - loss: 528301344948224.0000 - mae: 17589260.0000 - val_loss: 742717353099264.0000 - val_mae: 18697214.0000\n",
      "Epoch 24/25\n",
      "\u001b[1m99/99\u001b[0m \u001b[32m━━━━━━━━━━━━━━━━━━━━\u001b[0m\u001b[37m\u001b[0m \u001b[1m1s\u001b[0m 8ms/step - loss: 566295934271488.0000 - mae: 18459206.0000 - val_loss: 742706011701248.0000 - val_mae: 18697020.0000\n",
      "Epoch 25/25\n",
      "\u001b[1m99/99\u001b[0m \u001b[32m━━━━━━━━━━━━━━━━━━━━\u001b[0m\u001b[37m\u001b[0m \u001b[1m1s\u001b[0m 8ms/step - loss: 565012947009536.0000 - mae: 18402098.0000 - val_loss: 742694468976640.0000 - val_mae: 18696824.0000\n"
     ]
    }
   ],
   "source": [
    "history = model.fit(X_train, y_train, epochs=25, batch_size=32, validation_split=0.2)"
   ]
  },
  {
   "cell_type": "code",
   "execution_count": null,
   "metadata": {},
   "outputs": [
    {
     "name": "stdout",
     "output_type": "stream",
     "text": [
      "X_test:  (1225, 14, 6)\n",
      "y_test:  (1225,)\n",
      "\u001b[1m39/39\u001b[0m \u001b[32m━━━━━━━━━━━━━━━━━━━━\u001b[0m\u001b[37m\u001b[0m \u001b[1m0s\u001b[0m 3ms/step - loss: 13494180.0000 - mae: 3673.1553\n",
      "Test Loss: [13551137.0, 3680.796630859375]\n"
     ]
    }
   ],
   "source": [
    "# Scale test set\n",
    "scaler = MinMaxScaler()\n",
    "testing_set = scaler.fit_transform(testing_set)\n",
    "\n",
    "# Get X and y from testing set\n",
    "X_test, y_test = get_x_y(testing_set, 14, 4, 6)\n",
    "print(\"X_test: \", X_test.shape)\n",
    "print(\"y_test: \", y_test.shape)\n",
    "\n",
    "loss = model.evaluate(X_test, y_test)\n",
    "print(f'Test Loss: {loss}')"
   ]
  },
  {
   "cell_type": "code",
   "execution_count": null,
   "metadata": {},
   "outputs": [
    {
     "data": {
      "text/plain": [
       "<matplotlib.legend.Legend at 0x1eb10cd6dd0>"
      ]
     },
     "metadata": {},
     "output_type": "display_data"
    },
    {
     "data": {
      "image/png": "[encoded data removed]",
      "text/plain": [
       "<Figure size 1400x600 with 1 Axes>"
      ]
     },
     "metadata": {},
     "output_type": "display_data"
    }
   ],
   "source": [
    "# Plot training & validation loss values\n",
    "plt.figure(figsize=(14, 6))\n",
    "\n",
    "plt.subplot(1, 2, 1)\n",
    "plt.plot(history.history['loss'])\n",
    "plt.plot(history.history['val_loss'])\n",
    "plt.title('Model Loss')\n",
    "plt.ylabel('Loss')\n",
    "plt.xlabel('Epoch')\n",
    "plt.legend(['Train', 'Validation'], loc='upper right')"
   ]
  },
  {
   "cell_type": "code",
   "execution_count": null,
   "metadata": {},
   "outputs": [
    {
     "name": "stdout",
     "output_type": "stream",
     "text": [
      "\u001b[1m39/39\u001b[0m \u001b[32m━━━━━━━━━━━━━━━━━━━━\u001b[0m\u001b[37m\u001b[0m \u001b[1m1s\u001b[0m 9ms/step\n"
     ]
    },
    {
     "data": {
      "image/png": "[encoded data removed]",
      "text/plain": [
       "<Figure size 1400x600 with 1 Axes>"
      ]
     },
     "metadata": {},
     "output_type": "display_data"
    }
   ],
   "source": [
    "# Generate predictions\n",
    "y_pred = model.predict(X_test)\n",
    "\n",
    "# Plot predictions vs actual results\n",
    "plt.figure(figsize=(14, 6))\n",
    "plt.plot(y_test, color='blue', label='Actual')\n",
    "plt.plot(y_pred, color='red', label='Predicted')\n",
    "plt.title('Predictions vs Actual')\n",
    "plt.xlabel('Time')\n",
    "plt.ylabel('Stock Price')\n",
    "plt.legend(['Actual', 'Predicted'], loc='upper right')\n",
    "plt.show()"
   ]
  },
  {
   "cell_type": "code",
   "execution_count": null,
   "metadata": {},
   "outputs": [
    {
     "name": "stdout",
     "output_type": "stream",
     "text": [
      "Evaluate on test data\n",
      "\u001b[1m39/39\u001b[0m \u001b[32m━━━━━━━━━━━━━━━━━━━━\u001b[0m\u001b[37m\u001b[0m \u001b[1m0s\u001b[0m 3ms/step - loss: 13494180.0000 - mae: 3673.1553\n",
      "test loss, test acc: [13551137.0, 3680.796630859375]\n"
     ]
    }
   ],
   "source": [
    "print(\"Evaluate on test data\")\n",
    "results = model.evaluate(X_test, y_test)\n",
    "print(\"test loss, test acc:\", results)"
   ]
  }
 ],
 "metadata": {
  "language_info": {
   "name": "python"
  }
 },
 "nbformat": 4,
 "nbformat_minor": 2
}
