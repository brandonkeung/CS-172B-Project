{
 "cells": [
  {
   "cell_type": "code",
   "execution_count": 1,
   "metadata": {},
   "outputs": [],
   "source": [
    "import numpy as np\n",
    "import pandas as pd\n",
    "from keras.models import Sequential\n",
    "from keras.layers import LSTM, Dropout, Dense"
   ]
  },
  {
   "cell_type": "code",
   "execution_count": null,
   "metadata": {},
   "outputs": [],
   "source": [
    "# Best parameters based on highest testing accuracy:\n",
    "# window_size: 60\n",
    "# lstm_unit: 32\n",
    "# lstm_dropout: 0.1\n",
    "# dense_units: 16\n",
    "# batch_size: 16\n",
    "# epochs: 100\n",
    "# training_error_rate: 0.1243232861161232\n",
    "# training_accuracy: 0.23671691119670868\n",
    "# testing_error_rate: 0.04254093021154404\n",
    "# testing_accuracy: 0.19884800910949707\n",
    "# MASE: 26.256084442138672\n",
    "# Best parameters based on lowest MASE:\n",
    "# window_size: 60\n",
    "# lstm_unit: 64\n",
    "# lstm_dropout: 0.2\n",
    "# dense_units: 16\n",
    "# batch_size: 16\n",
    "# epochs: 200\n",
    "# training_error_rate: 0.00023464551486540586\n",
    "# training_accuracy: 0.006090724840760231\n",
    "# testing_error_rate: 2.2286689272732474e-05\n",
    "# testing_accuracy: 0.003547884291037917\n",
    "# MASE: 1.321271300315857\n",
    "parameters = [60, 9, 32, 0.1, 16]"
   ]
  },
  {
   "cell_type": "code",
   "execution_count": 2,
   "metadata": {},
   "outputs": [],
   "source": [
    "def grid_search_build_model(window_size, feature_count, lstm_units, d, dense_units):\n",
    "    model = Sequential()\n",
    "    model.add(LSTM(lstm_units, input_shape=(window_size, feature_count), return_sequences=True))\n",
    "    model.add(LSTM(lstm_units, return_sequences=True))\n",
    "    model.add(LSTM(lstm_units))\n",
    "    model.add(Dropout(d))\n",
    "    model.add(Dense(dense_units, activation=\"relu\", kernel_initializer=\"uniform\"))\n",
    "    model.add(Dense(1, activation=\"relu\", kernel_initializer=\"uniform\"))\n",
    "    model.compile(loss='mse',optimizer='adam',metrics=['mae'])\n",
    "    return model"
   ]
  },
  {
   "cell_type": "code",
   "execution_count": null,
   "metadata": {},
   "outputs": [],
   "source": [
    "model = grid_search_build_model(parameters)\n",
    "model.load_weights('../weights/AAPL_best_model.weights.h5')"
   ]
  }
 ],
 "metadata": {
  "kernelspec": {
   "display_name": "GPU",
   "language": "python",
   "name": "python3"
  },
  "language_info": {
   "codemirror_mode": {
    "name": "ipython",
    "version": 3
   },
   "file_extension": ".py",
   "mimetype": "text/x-python",
   "name": "python",
   "nbconvert_exporter": "python",
   "pygments_lexer": "ipython3",
   "version": "3.9.19"
  }
 },
 "nbformat": 4,
 "nbformat_minor": 2
}
