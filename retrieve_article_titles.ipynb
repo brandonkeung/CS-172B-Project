{
 "cells": [
  {
   "cell_type": "code",
   "execution_count": 9,
   "id": "1bc008b6-41ae-40c9-9a14-b17184413c4e",
   "metadata": {},
   "outputs": [],
   "source": [
    "import requests\n",
    "import xml.etree.ElementTree as ET\n",
    "from bs4 import BeautifulSoup"
   ]
  },
  {
   "cell_type": "code",
   "execution_count": 3,
   "id": "0b53e9e8-da7a-4b48-a4c1-dff8625dce43",
   "metadata": {},
   "outputs": [],
   "source": [
    "def fetch_and_parse_xml(url):\n",
    "    # Fetch the content from URL\n",
    "    response = requests.get(url)\n",
    "    response.raise_for_status()  # This will raise an error if the fetch fails\n",
    "\n",
    "    # Parse XML\n",
    "    root = ET.fromstring(response.content)\n",
    "    return root\n",
    "\n",
    "def extract_information(root):\n",
    "    # Define the namespace mapping\n",
    "    namespaces = {\n",
    "        'sa': 'https://seekingalpha.com/api/1.0',\n",
    "        'media': 'http://search.yahoo.com/mrss/'\n",
    "    }\n",
    "\n",
    "    # Loop through each item in the XML\n",
    "    articles = []\n",
    "    for item in root.findall('.//channel/item', namespaces):\n",
    "        # Extract information from each item\n",
    "        title = item.find('title').text\n",
    "        link = item.find('link').text\n",
    "        pub_date = item.find('pubDate').text\n",
    "        author_name = item.find('sa:author_name', namespaces).text\n",
    "        \n",
    "        # Collect article information in a dictionary\n",
    "        article_info = {\n",
    "            'title': title,\n",
    "            'link': link,\n",
    "            'published_date': pub_date,\n",
    "            'author_name': author_name\n",
    "        }\n",
    "        articles.append(article_info)\n",
    "\n",
    "    return articles"
   ]
  },
  {
   "cell_type": "code",
   "execution_count": 5,
   "id": "d8452e8d-d1f5-480a-a5f4-536155e775f3",
   "metadata": {},
   "outputs": [
    {
     "name": "stdout",
     "output_type": "stream",
     "text": [
      "{'title': 'Apple: Shiny No More - Sell Now And Keep Your Profits Thus Far', 'link': 'https://seekingalpha.com/article/4687585-apple-shiny-no-more-sell-now-and-keep-your-profits-thus-far?source=feed_symbol_AAPL', 'published_date': 'Tue, 30 Apr 2024 14:00:41 -0400', 'author_name': 'DeVas Research'}\n",
      "{'title': 'Apple loses No.1 spot in global smartphone market to Samsung in Q1 2024', 'link': 'https://seekingalpha.com/symbol/AAPL/news?source=feed_symbol_AAPL', 'published_date': 'Tue, 30 Apr 2024 11:04:11 -0400', 'author_name': 'Vansh Agarwal'}\n",
      "{'title': \"Huawei's Q1 profit soars amid rising challenge to Apple in China - report\", 'link': 'https://seekingalpha.com/symbol/AAPL/news?source=feed_symbol_AAPL', 'published_date': 'Tue, 30 Apr 2024 10:01:09 -0400', 'author_name': 'Ravikash Bakolia'}\n",
      "{'title': 'Apple quietly builds AI dream team, but final product remains mystery: report', 'link': 'https://seekingalpha.com/symbol/AAPL/news?source=feed_symbol_AAPL', 'published_date': 'Tue, 30 Apr 2024 09:03:17 -0400', 'author_name': 'Brandon Evans'}\n",
      "{'title': \"Apple's supplier list indicates China remains key manufacturing base: BofA\", 'link': 'https://seekingalpha.com/symbol/AAPL/news?source=feed_symbol_AAPL', 'published_date': 'Mon, 29 Apr 2024 09:52:26 -0400', 'author_name': 'Brandon Evans'}\n",
      "{'title': 'Apple upgraded at Bernstein ahead of earnings', 'link': 'https://seekingalpha.com/symbol/AAPL/news?source=feed_symbol_AAPL', 'published_date': 'Mon, 29 Apr 2024 07:40:08 -0400', 'author_name': 'Chris Ciaccia'}\n",
      "{'title': \"Apple's iPad gets added to products under EU's Digital Markets Act\", 'link': 'https://seekingalpha.com/symbol/AAPL/news?source=feed_symbol_AAPL', 'published_date': 'Mon, 29 Apr 2024 06:44:10 -0400', 'author_name': 'Ravikash Bakolia'}\n",
      "{'title': 'Earnings week ahead: Amazon, Apple, Pfizer, AMD, Coca-Cola, Starbucks and more', 'link': 'https://seekingalpha.com/symbol/AAPL/news?source=feed_symbol_AAPL', 'published_date': 'Sun, 28 Apr 2024 08:00:00 -0400', 'author_name': 'Niloofer Shaikh'}\n",
      "{'title': 'Apple faces scrutiny over iPhone sales, AI strategy in upcoming earnings call', 'link': 'https://seekingalpha.com/symbol/AAPL/news?source=feed_symbol_AAPL', 'published_date': 'Sun, 28 Apr 2024 07:00:00 -0400', 'author_name': 'Brandon Evans'}\n",
      "{'title': 'Apple, OpenAI restart talks to add generative AI to next iPhone: Bloomberg', 'link': 'https://seekingalpha.com/symbol/AAPL/news?source=feed_symbol_AAPL', 'published_date': 'Sat, 27 Apr 2024 11:44:47 -0400', 'author_name': 'Dulan Lokuwithana'}\n",
      "{'title': 'FOMC Meeting, Jobs Report, And Apple Earnings Headline Big Week', 'link': 'https://seekingalpha.com/article/4686791-fomc-meeting-jobs-report-and-apple-earnings-headline-big-week?source=feed_symbol_AAPL', 'published_date': 'Sat, 27 Apr 2024 09:00:00 -0400', 'author_name': 'Wall Street Week Ahead'}\n",
      "{'title': \"Apple's removal of 'nonconsensual nude' apps is latest AI battle for big tech\", 'link': 'https://seekingalpha.com/symbol/AAPL/news?source=feed_symbol_AAPL', 'published_date': 'Fri, 26 Apr 2024 11:17:41 -0400', 'author_name': 'Chris Ciaccia'}\n",
      "{'title': \"Huawei's new phone features updated version of advanced chip made in China - report\", 'link': 'https://seekingalpha.com/symbol/AAPL/news?source=feed_symbol_AAPL', 'published_date': 'Fri, 26 Apr 2024 05:07:53 -0400', 'author_name': 'Ravikash Bakolia'}\n",
      "{'title': 'Apple gets queries from Congo on concerns related to use of conflict minerals', 'link': 'https://seekingalpha.com/symbol/AAPL/news?source=feed_symbol_AAPL', 'published_date': 'Thu, 25 Apr 2024 06:27:35 -0400', 'author_name': 'Ravikash Bakolia'}\n",
      "{'title': \"Apple's iPhone shipments dip in Q1 as Honor, Huawei take top spot in China\", 'link': 'https://seekingalpha.com/symbol/AAPL/news?source=feed_symbol_AAPL', 'published_date': 'Thu, 25 Apr 2024 05:15:53 -0400', 'author_name': 'Ravikash Bakolia'}\n",
      "{'title': 'US iPhone activations continue to decline in latest worry for Apple', 'link': 'https://seekingalpha.com/symbol/AAPL/news?source=feed_symbol_AAPL', 'published_date': 'Wed, 24 Apr 2024 12:55:04 -0400', 'author_name': 'Chris Ciaccia'}\n",
      "{'title': 'Apple to slice Vision Pro unit shipments for 2024-25: analyst', 'link': 'https://seekingalpha.com/symbol/AAPL/news?source=feed_symbol_AAPL', 'published_date': 'Tue, 23 Apr 2024 13:23:14 -0400', 'author_name': 'Brandon Evans'}\n",
      "{'title': 'Apple: The only stock among S&P 500 mega caps likely to see EPS decline', 'link': 'https://seekingalpha.com/symbol/AAPL/news?source=feed_symbol_AAPL', 'published_date': 'Tue, 23 Apr 2024 11:01:54 -0400', 'author_name': 'Preeti Singh'}\n",
      "{'title': 'Apple sets special event for May 7; iPads likely to be in focus', 'link': 'https://seekingalpha.com/symbol/AAPL/news?source=feed_symbol_AAPL', 'published_date': 'Tue, 23 Apr 2024 10:15:08 -0400', 'author_name': 'Chris Ciaccia'}\n",
      "{'title': \"Apple's iPhone sales in China tumble 19% in Q1\", 'link': 'https://seekingalpha.com/symbol/AAPL/news?source=feed_symbol_AAPL', 'published_date': 'Tue, 23 Apr 2024 05:03:56 -0400', 'author_name': 'Ravikash Bakolia'}\n",
      "{'title': 'Wall Street Lunch: Big Tech Bearishness?', 'link': 'https://seekingalpha.com/article/4685116-wall-street-lunch-big-tech-bearishness?source=feed_symbol_AAPL', 'published_date': 'Mon, 22 Apr 2024 13:25:00 -0400', 'author_name': 'Wall Street Breakfast'}\n",
      "{'title': 'Apple nearing deal with FIFA for World Cup-like tournament: report', 'link': 'https://seekingalpha.com/symbol/AAPL/news?source=feed_symbol_AAPL', 'published_date': 'Mon, 22 Apr 2024 12:25:54 -0400', 'author_name': 'Chris Ciaccia'}\n",
      "{'title': 'Apple buys French AI startup Datakalab: report', 'link': 'https://seekingalpha.com/symbol/AAPL/news?source=feed_symbol_AAPL', 'published_date': 'Mon, 22 Apr 2024 09:58:21 -0400', 'author_name': 'Chris Ciaccia'}\n",
      "{'title': \"Apple likely to beat Q2, guide down Q3; 'weakness' should be bought: MS\", 'link': 'https://seekingalpha.com/symbol/AAPL/news?source=feed_symbol_AAPL', 'published_date': 'Mon, 22 Apr 2024 08:56:42 -0400', 'author_name': 'Chris Ciaccia'}\n",
      "{'title': \"Apple, Nvidia among Big 6 tech getting rating cut at UBS on 'earnings momentum reversal'\", 'link': 'https://seekingalpha.com/symbol/AAPL/news?source=feed_symbol_AAPL', 'published_date': 'Mon, 22 Apr 2024 08:18:09 -0400', 'author_name': 'Ravikash Bakolia'}\n",
      "{'title': 'Magnificent 5 Or 7? Earnings Preview With Steven Cress', 'link': 'https://seekingalpha.com/article/4684996-magnificent-5-or-7-earnings-preview-with-steven-cress?source=feed_symbol_AAPL', 'published_date': 'Sun, 21 Apr 2024 17:00:00 -0400', 'author_name': 'Investing Experts Podcast'}\n",
      "{'title': 'High-Quality Dividend Growth Near 52-Week Lows: Apple Is Attractive', 'link': 'https://seekingalpha.com/article/4684958-apple-attractive-high-quality-dividend-growth-near-52-week-lows-?source=feed_symbol_AAPL', 'published_date': 'Sun, 21 Apr 2024 09:36:07 -0400', 'author_name': 'DividendRodeo'}\n",
      "{'title': 'Apple Should Climb The Wall Of Worry', 'link': 'https://seekingalpha.com/article/4684846-apple-should-climb-the-wall-of-worry?source=feed_symbol_AAPL', 'published_date': 'Sat, 20 Apr 2024 01:42:54 -0400', 'author_name': 'Dividend Appreciator'}\n",
      "{'title': \"Apple's offer to open up NFC payment tech to be approved in EU: report\", 'link': 'https://seekingalpha.com/symbol/AAPL/news?source=feed_symbol_AAPL', 'published_date': 'Fri, 19 Apr 2024 12:59:07 -0400', 'author_name': 'Chris Ciaccia'}\n",
      "{'title': \"Sen. Elizabeth Warren says Apple and green texts are 'ruining relationships'\", 'link': 'https://seekingalpha.com/symbol/AAPL/news?source=feed_symbol_AAPL', 'published_date': 'Fri, 19 Apr 2024 08:03:21 -0400', 'author_name': 'Chris Ciaccia'}\n"
     ]
    }
   ],
   "source": [
    "# URL of the RSS feed\n",
    "url = \"https://seekingalpha.com/api/sa/combined/AAPL.xml\"\n",
    "\n",
    "# Process the URL\n",
    "root = fetch_and_parse_xml(url)\n",
    "\n",
    "# Extract and print article information\n",
    "articles = extract_information(root)\n",
    "for article in articles:\n",
    "    print(article)"
   ]
  },
  {
   "cell_type": "code",
   "execution_count": 7,
   "id": "fa125f77-a015-468f-82e1-0c4264781ac7",
   "metadata": {},
   "outputs": [
    {
     "name": "stdout",
     "output_type": "stream",
     "text": [
      "Apple: Shiny No More - Sell Now And Keep Your Profits Thus Far\n",
      "Apple loses No.1 spot in global smartphone market to Samsung in Q1 2024\n",
      "Huawei's Q1 profit soars amid rising challenge to Apple in China - report\n",
      "Apple quietly builds AI dream team, but final product remains mystery: report\n",
      "Apple's supplier list indicates China remains key manufacturing base: BofA\n",
      "Apple upgraded at Bernstein ahead of earnings\n",
      "Apple's iPad gets added to products under EU's Digital Markets Act\n",
      "Earnings week ahead: Amazon, Apple, Pfizer, AMD, Coca-Cola, Starbucks and more\n",
      "Apple faces scrutiny over iPhone sales, AI strategy in upcoming earnings call\n",
      "Apple, OpenAI restart talks to add generative AI to next iPhone: Bloomberg\n",
      "FOMC Meeting, Jobs Report, And Apple Earnings Headline Big Week\n",
      "Apple's removal of 'nonconsensual nude' apps is latest AI battle for big tech\n",
      "Huawei's new phone features updated version of advanced chip made in China - report\n",
      "Apple gets queries from Congo on concerns related to use of conflict minerals\n",
      "Apple's iPhone shipments dip in Q1 as Honor, Huawei take top spot in China\n",
      "US iPhone activations continue to decline in latest worry for Apple\n",
      "Apple to slice Vision Pro unit shipments for 2024-25: analyst\n",
      "Apple: The only stock among S&P 500 mega caps likely to see EPS decline\n",
      "Apple sets special event for May 7; iPads likely to be in focus\n",
      "Apple's iPhone sales in China tumble 19% in Q1\n",
      "Wall Street Lunch: Big Tech Bearishness?\n",
      "Apple nearing deal with FIFA for World Cup-like tournament: report\n",
      "Apple buys French AI startup Datakalab: report\n",
      "Apple likely to beat Q2, guide down Q3; 'weakness' should be bought: MS\n",
      "Apple, Nvidia among Big 6 tech getting rating cut at UBS on 'earnings momentum reversal'\n",
      "Magnificent 5 Or 7? Earnings Preview With Steven Cress\n",
      "High-Quality Dividend Growth Near 52-Week Lows: Apple Is Attractive\n",
      "Apple Should Climb The Wall Of Worry\n",
      "Apple's offer to open up NFC payment tech to be approved in EU: report\n",
      "Sen. Elizabeth Warren says Apple and green texts are 'ruining relationships'\n"
     ]
    }
   ],
   "source": [
    "for article in articles:\n",
    "    print(article['title'])"
   ]
  },
  {
   "cell_type": "code",
   "execution_count": 13,
   "id": "d8e6a5fb-b9cc-4e50-9c7e-a9b05b5b1a1d",
   "metadata": {},
   "outputs": [],
   "source": [
    "# Might be against ToS and doesn't work right now\n",
    "# def scrape_google_news(query):\n",
    "#     url = f\"https://news.google.com/search?q=apple&hl=en-US&gl=US&ceid=US%3Aen\"\n",
    "#     headers = {\n",
    "#         'User-Agent': 'Mozilla/5.0 (Windows NT 10.0; Win64; x64) AppleWebKit/537.36 (KHTML, like Gecko) Chrome/58.0.3029.110 Safari/537.3'}\n",
    "\n",
    "#     response = requests.get(url, headers=headers)\n",
    "#     soup = BeautifulSoup(response.text, 'html.parser')\n",
    "\n",
    "#     articles = []\n",
    "#     for item in soup.find_all('div', attrs={'class': 'xrnccd'}):\n",
    "#         title = item.find('h3', attrs={'class': 'ipQwMb ekueJc RD0gLb'}).text if item.find('h3', attrs={'class': 'ipQwMb ekueJc RD0gLb'}) else 'No Title'\n",
    "#         link = 'https://news.google.com' + item.find('a', attrs={'class': 'VDXfz'})['href'].strip('.') if item.find('a', attrs={'class': 'VDXfz'}) else 'No Link'\n",
    "        \n",
    "#         articles.append({\n",
    "#             'title': title,\n",
    "#             'link': link\n",
    "#         })\n",
    "\n",
    "#     return articles\n",
    "\n",
    "# # Usage\n",
    "# apple_news = scrape_google_news('Apple')\n",
    "# for news in apple_news:\n",
    "#     print(news)"
   ]
  },
  {
   "cell_type": "code",
   "execution_count": 17,
   "id": "ae0aef33-4ee7-4c4a-bead-03ebbbcc8d90",
   "metadata": {},
   "outputs": [
    {
     "ename": "SyntaxError",
     "evalue": "(unicode error) 'unicodeescape' codec can't decode bytes in position 3-4: truncated \\UXXXXXXXX escape (1637300995.py, line 8)",
     "output_type": "error",
     "traceback": [
      "\u001b[1;36m  Cell \u001b[1;32mIn[17], line 8\u001b[1;36m\u001b[0m\n\u001b[1;33m    api_key_path = '\"C:\\Users\\blkeu\\Desktop\\api_key.txt\"'\u001b[0m\n\u001b[1;37m                                                         ^\u001b[0m\n\u001b[1;31mSyntaxError\u001b[0m\u001b[1;31m:\u001b[0m (unicode error) 'unicodeescape' codec can't decode bytes in position 3-4: truncated \\UXXXXXXXX escape\n"
     ]
    }
   ],
   "source": [
    "def load_api_key(filepath):\n",
    "    \"\"\"Load and return the API key from a file.\"\"\"\n",
    "    with open(filepath, 'r') as file:\n",
    "        api_key = file.read().strip()  # .strip() removes any leading/trailing whitespace\n",
    "    return api_key\n",
    "\n",
    "# Usage\n",
    "api_key_path = '\"C:\\Users\\blkeu\\Desktop\\api_key.txt\"'\n",
    "api_key = load_api_key(api_key_path)\n"
   ]
  },
  {
   "cell_type": "code",
   "execution_count": 16,
   "id": "d3d46d4f-09c3-4768-8b01-126dc41c8683",
   "metadata": {},
   "outputs": [
    {
     "ename": "SyntaxError",
     "evalue": "(unicode error) 'unicodeescape' codec can't decode bytes in position 2-3: truncated \\UXXXXXXXX escape (2529751070.py, line 1)",
     "output_type": "error",
     "traceback": [
      "\u001b[1;36m  Cell \u001b[1;32mIn[16], line 1\u001b[1;36m\u001b[0m\n\u001b[1;33m    api_key_path = open(\"C:\\Users\\blkeu\\Desktop\\api_key.txt\", \"r\")\u001b[0m\n\u001b[1;37m                                                            ^\u001b[0m\n\u001b[1;31mSyntaxError\u001b[0m\u001b[1;31m:\u001b[0m (unicode error) 'unicodeescape' codec can't decode bytes in position 2-3: truncated \\UXXXXXXXX escape\n"
     ]
    }
   ],
   "source": [
    "def fetch_news(api_key, query):\n",
    "    url = f'https://newsapi.org/v2/everything?q=apple&apiKey='\n",
    "    url += api_key\n",
    "    response = requests.get(url)\n",
    "    return response.json()\n",
    "\n",
    "api_key = 'your_api_key_here'\n",
    "query = 'Apple'\n",
    "news_items = fetch_news(api_key, query)\n",
    "\n",
    "for article in news_items['articles']:\n",
    "    print(f\"Title: {article['title']}\")\n",
    "    print(f\"Description: {article['description']}\")\n",
    "    print(f\"URL: {article['url']}\\n\")"
   ]
  },
  {
   "cell_type": "code",
   "execution_count": null,
   "id": "e23fd3f1-7cca-4d1e-8628-e79584bdee70",
   "metadata": {},
   "outputs": [],
   "source": []
  }
 ],
 "metadata": {
  "kernelspec": {
   "display_name": "Python 3 (ipykernel)",
   "language": "python",
   "name": "python3"
  },
  "language_info": {
   "codemirror_mode": {
    "name": "ipython",
    "version": 3
   },
   "file_extension": ".py",
   "mimetype": "text/x-python",
   "name": "python",
   "nbconvert_exporter": "python",
   "pygments_lexer": "ipython3",
   "version": "3.11.9"
  }
 },
 "nbformat": 4,
 "nbformat_minor": 5
}
