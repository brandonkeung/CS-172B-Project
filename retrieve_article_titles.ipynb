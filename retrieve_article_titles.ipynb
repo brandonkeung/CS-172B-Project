{
 "cells": [
  {
   "cell_type": "code",
   "execution_count": 8,
   "id": "1bc008b6-41ae-40c9-9a14-b17184413c4e",
   "metadata": {},
   "outputs": [],
   "source": [
    "import requests\n",
    "import xml.etree.ElementTree as ET\n",
    "from bs4 import BeautifulSoup"
   ]
  },
  {
   "cell_type": "markdown",
   "id": "12d2b467-d8fc-48dc-be35-79f267c5231b",
   "metadata": {},
   "source": [
    "# Fetch article titles"
   ]
  },
  {
   "cell_type": "code",
   "execution_count": 9,
   "id": "0b53e9e8-da7a-4b48-a4c1-dff8625dce43",
   "metadata": {},
   "outputs": [],
   "source": [
    "def fetch_and_parse_xml(url):\n",
    "    # Fetch the content from URL\n",
    "    response = requests.get(url)\n",
    "    response.raise_for_status()  # This will raise an error if the fetch fails\n",
    "\n",
    "    # Parse XML\n",
    "    root = ET.fromstring(response.content)\n",
    "    return root\n",
    "\n",
    "def extract_information(root):\n",
    "    # Define the namespace mapping\n",
    "    namespaces = {\n",
    "        'sa': 'https://seekingalpha.com/api/1.0',\n",
    "        'media': 'http://search.yahoo.com/mrss/'\n",
    "    }\n",
    "\n",
    "    # Loop through each item in the XML\n",
    "    articles = []\n",
    "    for item in root.findall('.//channel/item', namespaces):\n",
    "        # Extract information from each item\n",
    "        title = item.find('title').text\n",
    "        link = item.find('link').text\n",
    "        pub_date = item.find('pubDate').text\n",
    "        author_name = item.find('sa:author_name', namespaces).text\n",
    "        \n",
    "        # Collect article information in a dictionary\n",
    "        article_info = {\n",
    "            'title': title,\n",
    "            'link': link,\n",
    "            'published_date': pub_date,\n",
    "            'author_name': author_name\n",
    "        }\n",
    "        articles.append(article_info)\n",
    "\n",
    "    return articles"
   ]
  },
  {
   "cell_type": "code",
   "execution_count": 10,
   "id": "d8452e8d-d1f5-480a-a5f4-536155e775f3",
   "metadata": {},
   "outputs": [
    {
     "name": "stdout",
     "output_type": "stream",
     "text": [
      "{'title': 'Apple: Shiny No More - Sell Now And Keep Your Profits Thus Far', 'link': 'https://seekingalpha.com/article/4687585-apple-shiny-no-more-sell-now-and-keep-your-profits-thus-far?source=feed_symbol_AAPL', 'published_date': 'Tue, 30 Apr 2024 14:00:41 -0400', 'author_name': 'DeVas Research'}\n",
      "{'title': 'Apple loses No.1 spot in global smartphone market to Samsung in Q1 2024', 'link': 'https://seekingalpha.com/symbol/AAPL/news?source=feed_symbol_AAPL', 'published_date': 'Tue, 30 Apr 2024 11:04:11 -0400', 'author_name': 'Vansh Agarwal'}\n",
      "{'title': \"Huawei's Q1 profit soars amid rising challenge to Apple in China - report\", 'link': 'https://seekingalpha.com/symbol/AAPL/news?source=feed_symbol_AAPL', 'published_date': 'Tue, 30 Apr 2024 10:01:09 -0400', 'author_name': 'Ravikash Bakolia'}\n",
      "{'title': 'Apple quietly builds AI dream team, but final product remains mystery: report', 'link': 'https://seekingalpha.com/symbol/AAPL/news?source=feed_symbol_AAPL', 'published_date': 'Tue, 30 Apr 2024 09:03:17 -0400', 'author_name': 'Brandon Evans'}\n",
      "{'title': \"Apple's supplier list indicates China remains key manufacturing base: BofA\", 'link': 'https://seekingalpha.com/symbol/AAPL/news?source=feed_symbol_AAPL', 'published_date': 'Mon, 29 Apr 2024 09:52:26 -0400', 'author_name': 'Brandon Evans'}\n",
      "{'title': 'Apple upgraded at Bernstein ahead of earnings', 'link': 'https://seekingalpha.com/symbol/AAPL/news?source=feed_symbol_AAPL', 'published_date': 'Mon, 29 Apr 2024 07:40:08 -0400', 'author_name': 'Chris Ciaccia'}\n",
      "{'title': \"Apple's iPad gets added to products under EU's Digital Markets Act\", 'link': 'https://seekingalpha.com/symbol/AAPL/news?source=feed_symbol_AAPL', 'published_date': 'Mon, 29 Apr 2024 06:44:10 -0400', 'author_name': 'Ravikash Bakolia'}\n",
      "{'title': 'Earnings week ahead: Amazon, Apple, Pfizer, AMD, Coca-Cola, Starbucks and more', 'link': 'https://seekingalpha.com/symbol/AAPL/news?source=feed_symbol_AAPL', 'published_date': 'Sun, 28 Apr 2024 08:00:00 -0400', 'author_name': 'Niloofer Shaikh'}\n",
      "{'title': 'Apple faces scrutiny over iPhone sales, AI strategy in upcoming earnings call', 'link': 'https://seekingalpha.com/symbol/AAPL/news?source=feed_symbol_AAPL', 'published_date': 'Sun, 28 Apr 2024 07:00:00 -0400', 'author_name': 'Brandon Evans'}\n",
      "{'title': 'Apple, OpenAI restart talks to add generative AI to next iPhone: Bloomberg', 'link': 'https://seekingalpha.com/symbol/AAPL/news?source=feed_symbol_AAPL', 'published_date': 'Sat, 27 Apr 2024 11:44:47 -0400', 'author_name': 'Dulan Lokuwithana'}\n",
      "{'title': 'FOMC Meeting, Jobs Report, And Apple Earnings Headline Big Week', 'link': 'https://seekingalpha.com/article/4686791-fomc-meeting-jobs-report-and-apple-earnings-headline-big-week?source=feed_symbol_AAPL', 'published_date': 'Sat, 27 Apr 2024 09:00:00 -0400', 'author_name': 'Wall Street Week Ahead'}\n",
      "{'title': \"Apple's removal of 'nonconsensual nude' apps is latest AI battle for big tech\", 'link': 'https://seekingalpha.com/symbol/AAPL/news?source=feed_symbol_AAPL', 'published_date': 'Fri, 26 Apr 2024 11:17:41 -0400', 'author_name': 'Chris Ciaccia'}\n",
      "{'title': \"Huawei's new phone features updated version of advanced chip made in China - report\", 'link': 'https://seekingalpha.com/symbol/AAPL/news?source=feed_symbol_AAPL', 'published_date': 'Fri, 26 Apr 2024 05:07:53 -0400', 'author_name': 'Ravikash Bakolia'}\n",
      "{'title': 'Apple gets queries from Congo on concerns related to use of conflict minerals', 'link': 'https://seekingalpha.com/symbol/AAPL/news?source=feed_symbol_AAPL', 'published_date': 'Thu, 25 Apr 2024 06:27:35 -0400', 'author_name': 'Ravikash Bakolia'}\n",
      "{'title': \"Apple's iPhone shipments dip in Q1 as Honor, Huawei take top spot in China\", 'link': 'https://seekingalpha.com/symbol/AAPL/news?source=feed_symbol_AAPL', 'published_date': 'Thu, 25 Apr 2024 05:15:53 -0400', 'author_name': 'Ravikash Bakolia'}\n",
      "{'title': 'US iPhone activations continue to decline in latest worry for Apple', 'link': 'https://seekingalpha.com/symbol/AAPL/news?source=feed_symbol_AAPL', 'published_date': 'Wed, 24 Apr 2024 12:55:04 -0400', 'author_name': 'Chris Ciaccia'}\n",
      "{'title': 'Apple to slice Vision Pro unit shipments for 2024-25: analyst', 'link': 'https://seekingalpha.com/symbol/AAPL/news?source=feed_symbol_AAPL', 'published_date': 'Tue, 23 Apr 2024 13:23:14 -0400', 'author_name': 'Brandon Evans'}\n",
      "{'title': 'Apple: The only stock among S&P 500 mega caps likely to see EPS decline', 'link': 'https://seekingalpha.com/symbol/AAPL/news?source=feed_symbol_AAPL', 'published_date': 'Tue, 23 Apr 2024 11:01:54 -0400', 'author_name': 'Preeti Singh'}\n",
      "{'title': 'Apple sets special event for May 7; iPads likely to be in focus', 'link': 'https://seekingalpha.com/symbol/AAPL/news?source=feed_symbol_AAPL', 'published_date': 'Tue, 23 Apr 2024 10:15:08 -0400', 'author_name': 'Chris Ciaccia'}\n",
      "{'title': \"Apple's iPhone sales in China tumble 19% in Q1\", 'link': 'https://seekingalpha.com/symbol/AAPL/news?source=feed_symbol_AAPL', 'published_date': 'Tue, 23 Apr 2024 05:03:56 -0400', 'author_name': 'Ravikash Bakolia'}\n",
      "{'title': 'Wall Street Lunch: Big Tech Bearishness?', 'link': 'https://seekingalpha.com/article/4685116-wall-street-lunch-big-tech-bearishness?source=feed_symbol_AAPL', 'published_date': 'Mon, 22 Apr 2024 13:25:00 -0400', 'author_name': 'Wall Street Breakfast'}\n",
      "{'title': 'Apple nearing deal with FIFA for World Cup-like tournament: report', 'link': 'https://seekingalpha.com/symbol/AAPL/news?source=feed_symbol_AAPL', 'published_date': 'Mon, 22 Apr 2024 12:25:54 -0400', 'author_name': 'Chris Ciaccia'}\n",
      "{'title': 'Apple buys French AI startup Datakalab: report', 'link': 'https://seekingalpha.com/symbol/AAPL/news?source=feed_symbol_AAPL', 'published_date': 'Mon, 22 Apr 2024 09:58:21 -0400', 'author_name': 'Chris Ciaccia'}\n",
      "{'title': \"Apple likely to beat Q2, guide down Q3; 'weakness' should be bought: MS\", 'link': 'https://seekingalpha.com/symbol/AAPL/news?source=feed_symbol_AAPL', 'published_date': 'Mon, 22 Apr 2024 08:56:42 -0400', 'author_name': 'Chris Ciaccia'}\n",
      "{'title': \"Apple, Nvidia among Big 6 tech getting rating cut at UBS on 'earnings momentum reversal'\", 'link': 'https://seekingalpha.com/symbol/AAPL/news?source=feed_symbol_AAPL', 'published_date': 'Mon, 22 Apr 2024 08:18:09 -0400', 'author_name': 'Ravikash Bakolia'}\n",
      "{'title': 'Magnificent 5 Or 7? Earnings Preview With Steven Cress', 'link': 'https://seekingalpha.com/article/4684996-magnificent-5-or-7-earnings-preview-with-steven-cress?source=feed_symbol_AAPL', 'published_date': 'Sun, 21 Apr 2024 17:00:00 -0400', 'author_name': 'Investing Experts Podcast'}\n",
      "{'title': 'High-Quality Dividend Growth Near 52-Week Lows: Apple Is Attractive', 'link': 'https://seekingalpha.com/article/4684958-apple-attractive-high-quality-dividend-growth-near-52-week-lows-?source=feed_symbol_AAPL', 'published_date': 'Sun, 21 Apr 2024 09:36:07 -0400', 'author_name': 'DividendRodeo'}\n",
      "{'title': 'Apple Should Climb The Wall Of Worry', 'link': 'https://seekingalpha.com/article/4684846-apple-should-climb-the-wall-of-worry?source=feed_symbol_AAPL', 'published_date': 'Sat, 20 Apr 2024 01:42:54 -0400', 'author_name': 'Dividend Appreciator'}\n",
      "{'title': \"Apple's offer to open up NFC payment tech to be approved in EU: report\", 'link': 'https://seekingalpha.com/symbol/AAPL/news?source=feed_symbol_AAPL', 'published_date': 'Fri, 19 Apr 2024 12:59:07 -0400', 'author_name': 'Chris Ciaccia'}\n",
      "{'title': \"Sen. Elizabeth Warren says Apple and green texts are 'ruining relationships'\", 'link': 'https://seekingalpha.com/symbol/AAPL/news?source=feed_symbol_AAPL', 'published_date': 'Fri, 19 Apr 2024 08:03:21 -0400', 'author_name': 'Chris Ciaccia'}\n"
     ]
    }
   ],
   "source": [
    "# URL of the RSS feed\n",
    "url = \"https://seekingalpha.com/api/sa/combined/AAPL.xml\"\n",
    "\n",
    "# Process the URL\n",
    "root = fetch_and_parse_xml(url)\n",
    "\n",
    "# Extract and print article information\n",
    "articles = extract_information(root)\n",
    "for article in articles:\n",
    "    print(article)"
   ]
  },
  {
   "cell_type": "code",
   "execution_count": 13,
   "id": "ae0aef33-4ee7-4c4a-bead-03ebbbcc8d90",
   "metadata": {},
   "outputs": [],
   "source": [
    "def load_api_key(filepath):\n",
    "    \"\"\"Load and return the API key from a file.\"\"\"\n",
    "    with open(filepath, 'r') as file:\n",
    "        api_key = file.read().strip()  # .strip() removes any leading/trailing whitespace\n",
    "    return api_key\n",
    "\n",
    "def fetch_news(api_key, query):\n",
    "    url = f'https://newsapi.org/v2/everything?q=apple&apiKey='\n",
    "    url += api_key\n",
    "    response = requests.get(url)\n",
    "    return response.json()"
   ]
  },
  {
   "cell_type": "code",
   "execution_count": 28,
   "id": "d3d46d4f-09c3-4768-8b01-126dc41c8683",
   "metadata": {},
   "outputs": [],
   "source": [
    "# Usage\n",
    "api_key_path = \"api_key.txt\"\n",
    "api_key = load_api_key(api_key_path)\n",
    "\n",
    "query = 'Apple'\n",
    "news_items = fetch_news(api_key, query)\n",
    "\n",
    "# for article in news_items['articles']:\n",
    "#     print(f\"Title: {article['title']}\")\n",
    "#     print(f\"Description: {article['description']}\")\n",
    "#     # print(f\"URL: {article['url']}\\n\")"
   ]
  },
  {
   "cell_type": "code",
   "execution_count": 24,
   "id": "fa125f77-a015-468f-82e1-0c4264781ac7",
   "metadata": {},
   "outputs": [],
   "source": [
    "titles = []\n",
    "for article in articles:\n",
    "    titles.append(article['title'])\n",
    "    # print(article['title'])"
   ]
  },
  {
   "cell_type": "code",
   "execution_count": 25,
   "id": "88428c06-7660-49ea-b09f-3a6a2080a5ac",
   "metadata": {},
   "outputs": [],
   "source": [
    "for article in news_items['articles']:\n",
    "    if article['title'] != \"[Removed]\":\n",
    "        titles.append(article['title'])\n",
    "        # print(article['title'])"
   ]
  },
  {
   "cell_type": "code",
   "execution_count": 26,
   "id": "a4a06a0c-81d7-42cd-88fc-25ea4c479011",
   "metadata": {},
   "outputs": [
    {
     "data": {
      "text/plain": [
       "['Apple: Shiny No More - Sell Now And Keep Your Profits Thus Far',\n",
       " 'Apple loses No.1 spot in global smartphone market to Samsung in Q1 2024',\n",
       " \"Huawei's Q1 profit soars amid rising challenge to Apple in China - report\",\n",
       " 'Apple quietly builds AI dream team, but final product remains mystery: report',\n",
       " \"Apple's supplier list indicates China remains key manufacturing base: BofA\",\n",
       " 'Apple upgraded at Bernstein ahead of earnings',\n",
       " \"Apple's iPad gets added to products under EU's Digital Markets Act\",\n",
       " 'Earnings week ahead: Amazon, Apple, Pfizer, AMD, Coca-Cola, Starbucks and more',\n",
       " 'Apple faces scrutiny over iPhone sales, AI strategy in upcoming earnings call',\n",
       " 'Apple, OpenAI restart talks to add generative AI to next iPhone: Bloomberg',\n",
       " 'FOMC Meeting, Jobs Report, And Apple Earnings Headline Big Week',\n",
       " \"Apple's removal of 'nonconsensual nude' apps is latest AI battle for big tech\",\n",
       " \"Huawei's new phone features updated version of advanced chip made in China - report\",\n",
       " 'Apple gets queries from Congo on concerns related to use of conflict minerals',\n",
       " \"Apple's iPhone shipments dip in Q1 as Honor, Huawei take top spot in China\",\n",
       " 'US iPhone activations continue to decline in latest worry for Apple',\n",
       " 'Apple to slice Vision Pro unit shipments for 2024-25: analyst',\n",
       " 'Apple: The only stock among S&P 500 mega caps likely to see EPS decline',\n",
       " 'Apple sets special event for May 7; iPads likely to be in focus',\n",
       " \"Apple's iPhone sales in China tumble 19% in Q1\",\n",
       " 'Wall Street Lunch: Big Tech Bearishness?',\n",
       " 'Apple nearing deal with FIFA for World Cup-like tournament: report',\n",
       " 'Apple buys French AI startup Datakalab: report',\n",
       " \"Apple likely to beat Q2, guide down Q3; 'weakness' should be bought: MS\",\n",
       " \"Apple, Nvidia among Big 6 tech getting rating cut at UBS on 'earnings momentum reversal'\",\n",
       " 'Magnificent 5 Or 7? Earnings Preview With Steven Cress',\n",
       " 'High-Quality Dividend Growth Near 52-Week Lows: Apple Is Attractive',\n",
       " 'Apple Should Climb The Wall Of Worry',\n",
       " \"Apple's offer to open up NFC payment tech to be approved in EU: report\",\n",
       " \"Sen. Elizabeth Warren says Apple and green texts are 'ruining relationships'\",\n",
       " 'Goodbye Apple Car, Hello Apple Home Robots',\n",
       " 'It doesn’t matter how many Vision Pro headsets Apple sells',\n",
       " 'You Should Update Apple iOS and Google Chrome ASAP',\n",
       " 'Apple Store Employees Say Coworkers Were Disciplined for Supporting Palestinians',\n",
       " 'The Apple Watch Series 9 is on sale for $299 right now',\n",
       " \"Apple is launching new iPads May 7: Here's what to expect from the 'Let Loose' event\",\n",
       " 'The Apple Watch Series 9 is back on sale for $299',\n",
       " 'Apple Store employees in New Jersey are trying to unionize',\n",
       " 'Apple is making progress cleaning up its dirty supply chain',\n",
       " 'Welcome to the Age of Technofeudalism',\n",
       " 'Qualcomm strong-arms its way into Windows\\xa0laptops\\xa0this summer',\n",
       " \"Delta Is an iOS Game Boy Emulator That (Likely) Won't Get Taken Down\",\n",
       " 'Fender Tone Master Pro Review: The Classiest Modeling Amp',\n",
       " 'How an iPhone Powered by Google’s Gemini AI Might Work',\n",
       " 'Apple Laid Off 600 People in Pivot Away From Cars and Watch Displays: Report',\n",
       " \"Apple TV's Dark Matter series takes on one of Blake Crouch's best books\",\n",
       " 'Dropbox CEO Drew Houston wants you to embrace AI and remote work',\n",
       " 'How to stop being reminded of memories you don’t want to be reminded of',\n",
       " 'Roku Breach Hits 567,000 Users',\n",
       " 'How to redo the Apple Vision Pro’s hand and eye tracking',\n",
       " 'The ‘Hollywood Con Queen’ gets a new documentary from Apple TV Plus',\n",
       " 'Now Apple\\xa0Vision Pro\\xa0Personas can float freely across different apps',\n",
       " 'Tesla is settling with the family of the Apple engineer who died in an Autopilot crash',\n",
       " 'Apple Gives Up on Labeling Cyberattacks as ‘State-Sponsored’',\n",
       " 'Apple Blocks Several U.S.-Based Messaging Apps in China',\n",
       " 'Everyone Already Forgot About the Apple Vision Pro',\n",
       " \"It's No Surprise That Samsung Phones Are Outselling iPhones Globally Right Now\",\n",
       " \"Jon Stewart Confirms Apple Wouldn't Let Him Do Show on AI With FTC Chair\",\n",
       " \"ChatGPT Could Power the iPhone's AI Chatbot: Report\",\n",
       " \"How to Turn Off Suggestions on Apple's Journal App\",\n",
       " \"Rumors of iPhone FineWoven's Death May Have Been Greatly Exaggerated\",\n",
       " 'Apple sparks Palestinian flag emoji controversy',\n",
       " 'How to change or cancel your music streaming services',\n",
       " \"Apple to Reveal New iPads During Its 'Let Loose' Event on May 7\",\n",
       " 'The Supercut app brings good Netflix to the Vision Pro',\n",
       " 'This week’s trailers offered twists on familiar genres',\n",
       " 'Apple TV+ Reveals a First Look at Dark Matter, Your Next Sci-Fi Mystery Obsession',\n",
       " 'Apple Vision Pro’s Creepy Avatars Can Now Invade Your Personal Space',\n",
       " 'Apple MacBook Pro 14 Versus Dell XPS 14: Who Wins on Comfort and Creativity?',\n",
       " 'App Store and More Down as Apple Services Suffer Widespread Outage',\n",
       " 'How to Force Restart an iPad',\n",
       " \"Apple Watch Series 9 Now Available on Apple's Refurbished Store in Select Countries\",\n",
       " 'Apple Welcomes Developers to New YouTube Channel for WWDC Videos',\n",
       " 'The Morning After: Drones that can charge on power lines',\n",
       " 'Report: Apple Podcasts Favors Shows With Subscriptions',\n",
       " 'watchOS 11 Rumored to Drop Support for Apple Watch Series 4',\n",
       " \"Apple Says iPhone 6 Plus Now 'Obsolete' and iPad Mini 4 Now 'Vintage'\",\n",
       " 'Apple Sending Emails to Developers Invited to WWDC 2024 Apple Park Special Event',\n",
       " 'Apple Celebrating Earth Day and International Dance Day With New Apple Watch Activity Challenges',\n",
       " 'Apple Working to Secure Streaming Rights to New FIFA Tournament',\n",
       " 'Apple Event Rumors: iPad Pro With M4 Chip and New Apple Pencil With Haptic Feedback',\n",
       " 'When to Expect a New Apple TV to Launch',\n",
       " 'Idris Elba Says Sonic 3 Will Be For the Real Diehards',\n",
       " 'Everything You Need to Know About Game Emulators on iPhone',\n",
       " 'Official Apple Watch Leather Link Band Is Just $40 at Woot While Supplies Last - CNET',\n",
       " \"Apple Watch Ultra 2 Now Available on Apple's Refurbished Store in U.S.\",\n",
       " 'Apple Seeds Second Beta of watchOS 10.5 to Developers',\n",
       " \"iOS 17.5 Potentially References New Apple Pencil and 'Squeeze' Gesture\",\n",
       " 'Apple Seeds Third Beta of watchOS 10.5 to Developers',\n",
       " \"Apple Announces 'Let Loose' Event on May 7\",\n",
       " 'Amazon Takes $60 Off 2nd Gen Apple Watch SE, Starting at Just $189',\n",
       " 'Apple Lays Off 600+ Employees After Canceling Car Project',\n",
       " 'Refurbished Apple Watch Ultra 2 Begins Rolling Out Outside U.S.',\n",
       " \"European Regulators Will Soon Approve Apple's Plan to Open Up Tap-to-Pay to Banks and Payment Providers\",\n",
       " 'Apple Releases New Firmware for AirPods Max',\n",
       " 'Apple Releases visionOS 1.1.2 With Bug Fixes',\n",
       " 'Apple Faces New Cybersecurity Law in UK',\n",
       " 'Apple Considers Expanding Manufacturing Base to Indonesia',\n",
       " 'Apple Seeds First Beta of watchOS 10.5 to Developers',\n",
       " 'Apple Arcade Adding These New Games in May',\n",
       " 'FineWoven Accessories May Get One Last Outing Before Apple Pulls Plug',\n",
       " 'Apple Seeds Second Beta of macOS Sonoma 14.5 to Developers',\n",
       " \"Apple is expected to launch new iPads and accessories during a May 7 event — here's what to know\",\n",
       " 'Apple Reportedly Stops Production of FineWoven Accessories',\n",
       " 'Tim Cook Sells Nearly 200,000 Apple Shares',\n",
       " 'Apple Asks Customers for Vision Pro Feedback',\n",
       " 'Save $300 on the 15-Inch M2 MacBook Air With Apple Music, Apple TV Plus and More Included - CNET',\n",
       " \"Apple's Rumored AI Robots: Explained video - CNET\",\n",
       " \"Apple Cuts Vision Pro Shipments As Demand Falls 'Sharply Beyond Expectations'\",\n",
       " 'Apple Seeds Second Beta of tvOS 17.5 to Developers',\n",
       " 'Apple issues mercenary spyware threat alert',\n",
       " 'Apple Store Employees in New Jersey File to Unionize',\n",
       " 'Apple believes that AI is the future',\n",
       " 'Apple to Allow Used Parts for Repairs, Starting With Select iPhones',\n",
       " 'Apple Seeds Second Beta of visionOS 1.2 to Developers',\n",
       " 'The Morning After: NASA has to make a time zone for the Moon']"
      ]
     },
     "execution_count": 26,
     "metadata": {},
     "output_type": "execute_result"
    }
   ],
   "source": [
    "titles"
   ]
  },
  {
   "cell_type": "markdown",
   "id": "e6ab3ac5-14e3-4313-9c43-dc065f46d242",
   "metadata": {},
   "source": [
    "# Sentiment Analysis"
   ]
  },
  {
   "cell_type": "code",
   "execution_count": 35,
   "id": "6aa451d9-940f-4b8c-bcaf-724e8e455890",
   "metadata": {},
   "outputs": [],
   "source": [
    "import pandas as pd\n",
    "from vaderSentiment.vaderSentiment import SentimentIntensityAnalyzer"
   ]
  },
  {
   "cell_type": "code",
   "execution_count": 36,
   "id": "19dc0504-8192-4f1c-b283-17cd6abf04fb",
   "metadata": {},
   "outputs": [],
   "source": [
    "# Example dataset\n",
    "data = {\n",
    "    'title': titles\n",
    "}\n",
    "\n",
    "df = pd.DataFrame(data)"
   ]
  },
  {
   "cell_type": "code",
   "execution_count": 37,
   "id": "18536ff4-a929-4762-a39b-befeda49d036",
   "metadata": {},
   "outputs": [],
   "source": [
    "# Initialize VADER\n",
    "analyzer = SentimentIntensityAnalyzer()\n",
    "\n",
    "# Function to get sentiments\n",
    "def get_sentiment(text):\n",
    "    return analyzer.polarity_scores(text)\n",
    "\n",
    "# Apply sentiment analysis\n",
    "df['sentiments'] = df['title'].apply(get_sentiment)\n",
    "df = pd.concat([df.drop(['sentiments'], axis=1), df['sentiments'].apply(pd.Series)], axis=1)"
   ]
  },
  {
   "cell_type": "code",
   "execution_count": 39,
   "id": "2dad9a3f-3dc2-427e-9e04-f4326982ecb5",
   "metadata": {},
   "outputs": [
    {
     "name": "stdout",
     "output_type": "stream",
     "text": [
      "      index         0\n",
      "0       neg  0.049707\n",
      "1       neu  0.873224\n",
      "2       pos  0.077069\n",
      "3  compound  0.040234\n"
     ]
    }
   ],
   "source": [
    "daily_sentiment = df.agg({\n",
    "    'neg': 'mean',\n",
    "    'neu': 'mean',\n",
    "    'pos': 'mean',\n",
    "    'compound': 'mean'\n",
    "}).reset_index()\n",
    "\n",
    "### Group by date if date is in the dataframe\n",
    "# daily_sentiment = df.groupby('date').agg({\n",
    "#     'neg': 'mean',\n",
    "#     'neu': 'mean',\n",
    "#     'pos': 'mean',\n",
    "#     'compound': 'mean'\n",
    "# }).reset_index()\n",
    "\n",
    "print(daily_sentiment)"
   ]
  },
  {
   "cell_type": "code",
   "execution_count": null,
   "id": "507499c9-e8bb-491a-9820-0833a7f4e599",
   "metadata": {},
   "outputs": [],
   "source": []
  }
 ],
 "metadata": {
  "kernelspec": {
   "display_name": "Python 3 (ipykernel)",
   "language": "python",
   "name": "python3"
  },
  "language_info": {
   "codemirror_mode": {
    "name": "ipython",
    "version": 3
   },
   "file_extension": ".py",
   "mimetype": "text/x-python",
   "name": "python",
   "nbconvert_exporter": "python",
   "pygments_lexer": "ipython3",
   "version": "3.11.9"
  }
 },
 "nbformat": 4,
 "nbformat_minor": 5
}
