{
 "cells": [
  {
   "cell_type": "code",
   "execution_count": 127,
   "metadata": {},
   "outputs": [],
   "source": [
    "import numpy as np\n",
    "import pandas as pd\n",
    "import tqdm\n",
    "import tensorflow as tf\n",
    "from tensorflow.keras.models import Sequential\n",
    "from tensorflow.keras.layers import LSTM, Dense, Dropout, Masking, BatchNormalization\n",
    "import matplotlib.pyplot as plt\n",
    "from sklearn.preprocessing import MinMaxScaler, StandardScaler, RobustScaler "
   ]
  },
  {
   "cell_type": "code",
   "execution_count": 128,
   "metadata": {},
   "outputs": [
    {
     "data": {
      "text/html": [
       "<div>\n",
       "<style scoped>\n",
       "    .dataframe tbody tr th:only-of-type {\n",
       "        vertical-align: middle;\n",
       "    }\n",
       "\n",
       "    .dataframe tbody tr th {\n",
       "        vertical-align: top;\n",
       "    }\n",
       "\n",
       "    .dataframe thead th {\n",
       "        text-align: right;\n",
       "    }\n",
       "</style>\n",
       "<table border=\"1\" class=\"dataframe\">\n",
       "  <thead>\n",
       "    <tr style=\"text-align: right;\">\n",
       "      <th></th>\n",
       "      <th>timestamp</th>\n",
       "      <th>open</th>\n",
       "      <th>high</th>\n",
       "      <th>low</th>\n",
       "      <th>close</th>\n",
       "      <th>volume</th>\n",
       "      <th>sentiment</th>\n",
       "    </tr>\n",
       "  </thead>\n",
       "  <tbody>\n",
       "    <tr>\n",
       "      <th>0</th>\n",
       "      <td>1999-11-01</td>\n",
       "      <td>80.00</td>\n",
       "      <td>80.69</td>\n",
       "      <td>77.37</td>\n",
       "      <td>77.62</td>\n",
       "      <td>2487300</td>\n",
       "      <td>NaN</td>\n",
       "    </tr>\n",
       "    <tr>\n",
       "      <th>1</th>\n",
       "      <td>1999-11-02</td>\n",
       "      <td>78.00</td>\n",
       "      <td>81.69</td>\n",
       "      <td>77.31</td>\n",
       "      <td>80.25</td>\n",
       "      <td>3564600</td>\n",
       "      <td>NaN</td>\n",
       "    </tr>\n",
       "    <tr>\n",
       "      <th>2</th>\n",
       "      <td>1999-11-03</td>\n",
       "      <td>81.62</td>\n",
       "      <td>83.25</td>\n",
       "      <td>81.00</td>\n",
       "      <td>81.50</td>\n",
       "      <td>2932700</td>\n",
       "      <td>NaN</td>\n",
       "    </tr>\n",
       "    <tr>\n",
       "      <th>3</th>\n",
       "      <td>1999-11-04</td>\n",
       "      <td>82.06</td>\n",
       "      <td>85.37</td>\n",
       "      <td>80.62</td>\n",
       "      <td>83.62</td>\n",
       "      <td>3384700</td>\n",
       "      <td>NaN</td>\n",
       "    </tr>\n",
       "    <tr>\n",
       "      <th>4</th>\n",
       "      <td>1999-11-05</td>\n",
       "      <td>84.62</td>\n",
       "      <td>88.37</td>\n",
       "      <td>84.00</td>\n",
       "      <td>88.31</td>\n",
       "      <td>3721500</td>\n",
       "      <td>NaN</td>\n",
       "    </tr>\n",
       "    <tr>\n",
       "      <th>...</th>\n",
       "      <td>...</td>\n",
       "      <td>...</td>\n",
       "      <td>...</td>\n",
       "      <td>...</td>\n",
       "      <td>...</td>\n",
       "      <td>...</td>\n",
       "      <td>...</td>\n",
       "    </tr>\n",
       "    <tr>\n",
       "      <th>6190</th>\n",
       "      <td>2024-06-10</td>\n",
       "      <td>196.90</td>\n",
       "      <td>197.30</td>\n",
       "      <td>192.15</td>\n",
       "      <td>193.12</td>\n",
       "      <td>97262077</td>\n",
       "      <td>-0.045220</td>\n",
       "    </tr>\n",
       "    <tr>\n",
       "      <th>6191</th>\n",
       "      <td>2024-06-11</td>\n",
       "      <td>193.65</td>\n",
       "      <td>207.16</td>\n",
       "      <td>193.63</td>\n",
       "      <td>207.15</td>\n",
       "      <td>172373296</td>\n",
       "      <td>0.085237</td>\n",
       "    </tr>\n",
       "    <tr>\n",
       "      <th>6192</th>\n",
       "      <td>2024-06-12</td>\n",
       "      <td>207.37</td>\n",
       "      <td>220.20</td>\n",
       "      <td>206.90</td>\n",
       "      <td>213.07</td>\n",
       "      <td>198134293</td>\n",
       "      <td>0.131361</td>\n",
       "    </tr>\n",
       "    <tr>\n",
       "      <th>6193</th>\n",
       "      <td>2024-06-13</td>\n",
       "      <td>214.74</td>\n",
       "      <td>216.75</td>\n",
       "      <td>211.60</td>\n",
       "      <td>214.24</td>\n",
       "      <td>97862729</td>\n",
       "      <td>0.008962</td>\n",
       "    </tr>\n",
       "    <tr>\n",
       "      <th>6194</th>\n",
       "      <td>2024-06-14</td>\n",
       "      <td>213.85</td>\n",
       "      <td>215.17</td>\n",
       "      <td>211.30</td>\n",
       "      <td>212.49</td>\n",
       "      <td>70122748</td>\n",
       "      <td>-0.062487</td>\n",
       "    </tr>\n",
       "  </tbody>\n",
       "</table>\n",
       "<p>6195 rows × 7 columns</p>\n",
       "</div>"
      ],
      "text/plain": [
       "       timestamp    open    high     low   close     volume  sentiment\n",
       "0     1999-11-01   80.00   80.69   77.37   77.62    2487300        NaN\n",
       "1     1999-11-02   78.00   81.69   77.31   80.25    3564600        NaN\n",
       "2     1999-11-03   81.62   83.25   81.00   81.50    2932700        NaN\n",
       "3     1999-11-04   82.06   85.37   80.62   83.62    3384700        NaN\n",
       "4     1999-11-05   84.62   88.37   84.00   88.31    3721500        NaN\n",
       "...          ...     ...     ...     ...     ...        ...        ...\n",
       "6190  2024-06-10  196.90  197.30  192.15  193.12   97262077  -0.045220\n",
       "6191  2024-06-11  193.65  207.16  193.63  207.15  172373296   0.085237\n",
       "6192  2024-06-12  207.37  220.20  206.90  213.07  198134293   0.131361\n",
       "6193  2024-06-13  214.74  216.75  211.60  214.24   97862729   0.008962\n",
       "6194  2024-06-14  213.85  215.17  211.30  212.49   70122748  -0.062487\n",
       "\n",
       "[6195 rows x 7 columns]"
      ]
     },
     "execution_count": 128,
     "metadata": {},
     "output_type": "execute_result"
    }
   ],
   "source": [
    "# THIS REMOVES ARTICLES WRITTEN ON NON-BUSINESS DAYS\n",
    "\n",
    "hist_df = pd.read_csv('data/AAPL_2024-06-16.csv')\n",
    "sent_df = pd.read_csv('data/AAPL_sent.csv')\n",
    "df = pd.merge(hist_df, sent_df, left_on='timestamp', right_on='date', how='left')\n",
    "df = df[['timestamp','open','high','low','close','volume','compound']]\n",
    "df.rename(columns={'compound': 'sentiment'}, inplace=True)\n",
    "df"
   ]
  },
  {
   "cell_type": "code",
   "execution_count": 129,
   "metadata": {},
   "outputs": [],
   "source": [
    "def create_sequences(data, seq_length):\n",
    "    sequences = []\n",
    "    for i in range(len(data) - seq_length):\n",
    "        seq = data[i:i + seq_length]\n",
    "        sequences.append(seq)\n",
    "    return np.array(sequences)"
   ]
  },
  {
   "cell_type": "code",
   "execution_count": 130,
   "metadata": {},
   "outputs": [],
   "source": [
    "def split_data(data, training_split, features):\n",
    "  split_row = int(data.shape[0]*training_split)\n",
    "  training_set = data[features].iloc[:split_row].values\n",
    "  testing_set = data[features].iloc[split_row:].values\n",
    "  return training_set, testing_set\n",
    "\n",
    "\n",
    "def get_x_y(dataset, window_size, label_feature, feature_count):\n",
    "  X, y = [], []\n",
    "  for i in range(window_size, len(dataset)):\n",
    "    X.append(dataset[i-window_size:i])\n",
    "    y.append(dataset[i, label_feature])\n",
    "\n",
    "  X, y = np.array(X), np.array(y)\n",
    "  X = np.reshape(X, (X.shape[0], window_size, feature_count))\n",
    "  return X, y"
   ]
  },
  {
   "cell_type": "code",
   "execution_count": 131,
   "metadata": {},
   "outputs": [
    {
     "name": "stdout",
     "output_type": "stream",
     "text": [
      "<class 'pandas.core.frame.DataFrame'>\n",
      "training_set:  (4956, 6)\n",
      "testing_set:  (1239, 6)\n"
     ]
    }
   ],
   "source": [
    "# Replace NaNs with a temporary placeholder for scaling\n",
    "placeholder_value = -2\n",
    "# df['sentiment'].fillna(placeholder_value, inplace=True)\n",
    "\n",
    "# Split data into training and testing\n",
    "print(type(df))\n",
    "training_set, testing_set = split_data(df, 0.8, ['open', 'high', 'low', 'close', 'volume', 'sentiment'])\n",
    "print(\"training_set: \", training_set.shape)\n",
    "print(\"testing_set: \", testing_set.shape)"
   ]
  },
  {
   "cell_type": "code",
   "execution_count": 132,
   "metadata": {},
   "outputs": [
    {
     "data": {
      "text/plain": [
       "array([[8.0000000e+01, 8.0690000e+01, 7.7370000e+01, 7.7620000e+01,\n",
       "        2.4873000e+06,           nan],\n",
       "       [7.8000000e+01, 8.1690000e+01, 7.7310000e+01, 8.0250000e+01,\n",
       "        3.5646000e+06,           nan],\n",
       "       [8.1620000e+01, 8.3250000e+01, 8.1000000e+01, 8.1500000e+01,\n",
       "        2.9327000e+06,           nan],\n",
       "       ...,\n",
       "       [2.0331000e+02, 2.0439000e+02, 2.0171000e+02, 2.0175000e+02,\n",
       "        2.0191842e+07, 3.1414000e-01],\n",
       "       [2.0245000e+02, 2.0400000e+02, 2.0220000e+02, 2.0330000e+02,\n",
       "        1.7595212e+07, 0.0000000e+00],\n",
       "       [2.0409000e+02, 2.0587000e+02, 2.0400000e+02, 2.0521000e+02,\n",
       "        1.6947420e+07,           nan]])"
      ]
     },
     "execution_count": 132,
     "metadata": {},
     "output_type": "execute_result"
    }
   ],
   "source": [
    "training_set"
   ]
  },
  {
   "cell_type": "code",
   "execution_count": 133,
   "metadata": {},
   "outputs": [],
   "source": [
    "# Example data preparation\n",
    "scaler = RobustScaler()\n",
    "\n",
    "training_set = scaler.fit_transform(training_set)\n",
    "testing_set = scaler.fit_transform(testing_set)"
   ]
  },
  {
   "cell_type": "code",
   "execution_count": 134,
   "metadata": {},
   "outputs": [
    {
     "data": {
      "text/plain": [
       "array([[-0.25484573, -0.2577573 , -0.26697695, -0.27287525, -0.75590068,\n",
       "                nan],\n",
       "       [-0.268666  , -0.25088102, -0.26739549, -0.25465817, -0.70804483,\n",
       "                nan],\n",
       "       [-0.24365131, -0.24015403, -0.2416552 , -0.24599986, -0.73611511,\n",
       "                nan],\n",
       "       ...,\n",
       "       [ 0.59724286,  0.59283836,  0.60037986,  0.58692942,  0.03057088,\n",
       "         1.57942274],\n",
       "       [ 0.59130014,  0.59015661,  0.60379795,  0.59766572, -0.08477668,\n",
       "        -0.37810708],\n",
       "       [ 0.60263276,  0.60301525,  0.61635418,  0.61089562, -0.11355291,\n",
       "                nan]])"
      ]
     },
     "execution_count": 134,
     "metadata": {},
     "output_type": "execute_result"
    }
   ],
   "source": [
    "training_set"
   ]
  },
  {
   "cell_type": "code",
   "execution_count": 135,
   "metadata": {},
   "outputs": [
    {
     "name": "stdout",
     "output_type": "stream",
     "text": [
      "[[-0.25484573 -0.2577573  -0.26697695 -0.27287525 -0.75590068 -2.        ]\n",
      " [-0.268666   -0.25088102 -0.26739549 -0.25465817 -0.70804483 -2.        ]\n",
      " [-0.24365131 -0.24015403 -0.2416552  -0.24599986 -0.73611511 -2.        ]\n",
      " ...\n",
      " [ 0.59724286  0.59283836  0.60037986  0.58692942  0.03057088  1.57942274]\n",
      " [ 0.59130014  0.59015661  0.60379795  0.59766572 -0.08477668 -0.37810708]\n",
      " [ 0.60263276  0.60301525  0.61635418  0.61089562 -0.11355291 -2.        ]]\n",
      "[[ 0.69960104  0.71658078  0.71120369  0.71461531 -1.16698027 -0.87928648]\n",
      " [ 0.68896222  0.69596848  0.70664088  0.69154379 -1.23249791 -3.53303603]\n",
      " [ 0.68797715  0.71193291  0.71517135  0.73788745 -1.12625158  0.86308883]\n",
      " ...\n",
      " [ 0.75437128  1.00131353  0.77865397  0.8865483   3.13698565  0.48247074]\n",
      " [ 0.89957149  0.93159543  0.87189406  0.91002107  0.75616477 -0.39588139]\n",
      " [ 0.88203714  0.89966657  0.86594257  0.87491223  0.09751417 -0.90861312]]\n"
     ]
    }
   ],
   "source": [
    "nan_mask = np.isnan(training_set)\n",
    "\n",
    "# Replace NaNs with -2\n",
    "training_set[nan_mask] = -2\n",
    "\n",
    "print(training_set)\n",
    "\n",
    "nan_mask = np.isnan(testing_set)\n",
    "\n",
    "# Replace NaNs with -2\n",
    "testing_set[nan_mask] = -2\n",
    "\n",
    "print(testing_set)"
   ]
  },
  {
   "cell_type": "code",
   "execution_count": 136,
   "metadata": {},
   "outputs": [
    {
     "name": "stdout",
     "output_type": "stream",
     "text": [
      "X_train:  (3953, 14, 6)\n",
      "y_train:  (3953,)\n",
      "X_val:  (989, 14, 6)\n",
      "y_val:  (989,)\n"
     ]
    }
   ],
   "source": [
    "X_train, y_train = get_x_y(training_set, 14, 3, 6)\n",
    "val_split_row = int(X_train.shape[0]*0.8) # 20% will be used for validation\n",
    "X_train, X_val = X_train[:val_split_row], X_train[val_split_row:]\n",
    "y_train, y_val = y_train[:val_split_row], y_train[val_split_row:]\n",
    "print(\"X_train: \", X_train.shape)\n",
    "print(\"y_train: \", y_train.shape)\n",
    "print(\"X_val: \", X_val.shape)\n",
    "print(\"y_val: \", y_val.shape)"
   ]
  },
  {
   "cell_type": "code",
   "execution_count": 137,
   "metadata": {},
   "outputs": [],
   "source": [
    "# seq_length = 60  # Example sequence length\n",
    "# sequences = create_sequences(data, seq_length)"
   ]
  },
  {
   "cell_type": "code",
   "execution_count": 138,
   "metadata": {},
   "outputs": [],
   "source": [
    "# # Creating mask for missing sentiment values\n",
    "# sentiment_column_index = 5\n",
    "# mask = np.isnan(sequences[:, :, sentiment_column_index])\n",
    "\n",
    "# # Replacing NaNs with a placeholder (e.g., -2) that will be masked out\n",
    "# sequences[:, :, sentiment_column_index] = np.nan_to_num(sequences[:, :, sentiment_column_index], nan=-2)\n",
    "\n",
    "# X = sequences[:, :-1, :]\n",
    "# y = sequences[:, -1, 3]  # Example: predicting the 'close' price"
   ]
  },
  {
   "cell_type": "code",
   "execution_count": 139,
   "metadata": {},
   "outputs": [],
   "source": [
    "# split = int(0.8 * len(X))\n",
    "# X_train, X_test = X[:split], X[split:]\n",
    "# y_train, y_test = y[:split], y[split:]\n",
    "# mask_train, mask_test = mask[:split, :-1], mask[split:, :-1]"
   ]
  },
  {
   "cell_type": "code",
   "execution_count": 140,
   "metadata": {},
   "outputs": [],
   "source": [
    "# placeholder_value = -2\n",
    "# X_train[:, :, 5][np.isnan(X_train[:, :, 5])] = placeholder_value\n",
    "# X_test[:, :, 5][np.isnan(X_test[:, :, 5])] = placeholder_value\n",
    "\n",
    "# # Create mask arrays: True where sentiment is placeholder_value, False otherwise\n",
    "# mask_train = (X_train[:, :, 5] == placeholder_value)\n",
    "# mask_test = (X_test[:, :, 5] == placeholder_value)"
   ]
  },
  {
   "cell_type": "code",
   "execution_count": 141,
   "metadata": {},
   "outputs": [],
   "source": [
    "# # Custom loss function to ignore masked values\n",
    "# def custom_loss(y_true, y_pred):\n",
    "#     mask = tf.cast(tf.not_equal(y_true, -2), dtype=tf.float32)\n",
    "#     loss = tf.reduce_sum(mask * tf.square(y_true - y_pred)) / tf.reduce_sum(mask)\n",
    "#     return loss\n",
    "\n",
    "def build_model(window_size, feature_count):\n",
    "    d = 0.1\n",
    "    model = Sequential()\n",
    "    model.add(Masking(mask_value=placeholder_value, input_shape=(window_size, feature_count)))\n",
    "    model.add(LSTM(128, return_sequences=True))\n",
    "    model.add(Dropout(d))\n",
    "    model.add(BatchNormalization())  # Adding batch normalization\n",
    "\n",
    "    model.add(LSTM(64, return_sequences=True))  # Adding another LSTM layer with more units\n",
    "    model.add(Dropout(d))\n",
    "    model.add(BatchNormalization())  # Adding batch normalization\n",
    "\n",
    "    # model.add(LSTM(32, return_sequences=True))  # Adding another LSTM layer\n",
    "    # model.add(Dropout(d))\n",
    "    # model.add(BatchNormalization())  # Adding batch normalization\n",
    "\n",
    "    model.add(LSTM(32))  # Final LSTM layer without return_sequences\n",
    "    model.add(Dropout(d))\n",
    "    model.add(BatchNormalization())  # Adding batch normalization\n",
    "\n",
    "    model.add(Dense(64, activation=\"relu\", kernel_initializer=\"he_uniform\"))  # Increased units and changed initializer\n",
    "    model.add(Dropout(d))  # Adding dropout after Dense layer\n",
    "\n",
    "    model.add(Dense(32, activation=\"relu\", kernel_initializer=\"he_uniform\"))  # Adding another Dense layer\n",
    "    model.add(Dropout(d))  # Adding dropout after Dense layer\n",
    "\n",
    "    model.add(Dense(16, activation=\"relu\", kernel_initializer=\"he_uniform\"))  # Original Dense layer\n",
    "    model.add(Dropout(d))  # Adding dropout after Dense layer\n",
    "\n",
    "    model.add(Dense(1, activation=\"linear\", kernel_initializer=\"he_uniform\"))  # Output layer with linear activation\n",
    "\n",
    "    model.compile(loss='mse', optimizer='adam', metrics=['mae'])\n",
    "    # model = Sequential()\n",
    "    # model.add(Masking(mask_value=placeholder_value, input_shape=(window_size, feature_count)))\n",
    "    # model.add(LSTM(128, input_shape=(window_size, feature_count), return_sequences=True))\n",
    "    # model.add(LSTM(32))\n",
    "    # model.add(Dropout(d))\n",
    "    # model.add(Dense(16, activation=\"relu\", kernel_initializer=\"uniform\"))\n",
    "    # model.add(Dense(1, activation=\"relu\", kernel_initializer=\"uniform\"))\n",
    "    # model.compile(loss='mse', optimizer='adam', metrics=['mae'])\n",
    "    # model.compile(optimizer='adam', loss=custom_loss)\n",
    "    return model"
   ]
  },
  {
   "cell_type": "code",
   "execution_count": 142,
   "metadata": {},
   "outputs": [
    {
     "name": "stderr",
     "output_type": "stream",
     "text": [
      "c:\\Users\\blkeu\\anaconda3\\envs\\CS172B311\\Lib\\site-packages\\keras\\src\\layers\\core\\masking.py:47: UserWarning: Do not pass an `input_shape`/`input_dim` argument to a layer. When using Sequential models, prefer using an `Input(shape)` object as the first layer in the model instead.\n",
      "  super().__init__(**kwargs)\n"
     ]
    },
    {
     "data": {
      "text/html": [
       "<pre style=\"white-space:pre;overflow-x:auto;line-height:normal;font-family:Menlo,'DejaVu Sans Mono',consolas,'Courier New',monospace\"><span style=\"font-weight: bold\">Model: \"sequential_6\"</span>\n",
       "</pre>\n"
      ],
      "text/plain": [
       "\u001b[1mModel: \"sequential_6\"\u001b[0m\n"
      ]
     },
     "metadata": {},
     "output_type": "display_data"
    },
    {
     "data": {
      "text/html": [
       "<pre style=\"white-space:pre;overflow-x:auto;line-height:normal;font-family:Menlo,'DejaVu Sans Mono',consolas,'Courier New',monospace\">┏━━━━━━━━━━━━━━━━━━━━━━━━━━━━━━━━━┳━━━━━━━━━━━━━━━━━━━━━━━━┳━━━━━━━━━━━━━━━┓\n",
       "┃<span style=\"font-weight: bold\"> Layer (type)                    </span>┃<span style=\"font-weight: bold\"> Output Shape           </span>┃<span style=\"font-weight: bold\">       Param # </span>┃\n",
       "┡━━━━━━━━━━━━━━━━━━━━━━━━━━━━━━━━━╇━━━━━━━━━━━━━━━━━━━━━━━━╇━━━━━━━━━━━━━━━┩\n",
       "│ masking_6 (<span style=\"color: #0087ff; text-decoration-color: #0087ff\">Masking</span>)             │ (<span style=\"color: #00d7ff; text-decoration-color: #00d7ff\">None</span>, <span style=\"color: #00af00; text-decoration-color: #00af00\">60</span>, <span style=\"color: #00af00; text-decoration-color: #00af00\">6</span>)          │             <span style=\"color: #00af00; text-decoration-color: #00af00\">0</span> │\n",
       "├─────────────────────────────────┼────────────────────────┼───────────────┤\n",
       "│ lstm_20 (<span style=\"color: #0087ff; text-decoration-color: #0087ff\">LSTM</span>)                  │ (<span style=\"color: #00d7ff; text-decoration-color: #00d7ff\">None</span>, <span style=\"color: #00af00; text-decoration-color: #00af00\">60</span>, <span style=\"color: #00af00; text-decoration-color: #00af00\">128</span>)        │        <span style=\"color: #00af00; text-decoration-color: #00af00\">69,120</span> │\n",
       "├─────────────────────────────────┼────────────────────────┼───────────────┤\n",
       "│ dropout_34 (<span style=\"color: #0087ff; text-decoration-color: #0087ff\">Dropout</span>)            │ (<span style=\"color: #00d7ff; text-decoration-color: #00d7ff\">None</span>, <span style=\"color: #00af00; text-decoration-color: #00af00\">60</span>, <span style=\"color: #00af00; text-decoration-color: #00af00\">128</span>)        │             <span style=\"color: #00af00; text-decoration-color: #00af00\">0</span> │\n",
       "├─────────────────────────────────┼────────────────────────┼───────────────┤\n",
       "│ batch_normalization_18          │ (<span style=\"color: #00d7ff; text-decoration-color: #00d7ff\">None</span>, <span style=\"color: #00af00; text-decoration-color: #00af00\">60</span>, <span style=\"color: #00af00; text-decoration-color: #00af00\">128</span>)        │           <span style=\"color: #00af00; text-decoration-color: #00af00\">512</span> │\n",
       "│ (<span style=\"color: #0087ff; text-decoration-color: #0087ff\">BatchNormalization</span>)            │                        │               │\n",
       "├─────────────────────────────────┼────────────────────────┼───────────────┤\n",
       "│ lstm_21 (<span style=\"color: #0087ff; text-decoration-color: #0087ff\">LSTM</span>)                  │ (<span style=\"color: #00d7ff; text-decoration-color: #00d7ff\">None</span>, <span style=\"color: #00af00; text-decoration-color: #00af00\">60</span>, <span style=\"color: #00af00; text-decoration-color: #00af00\">64</span>)         │        <span style=\"color: #00af00; text-decoration-color: #00af00\">49,408</span> │\n",
       "├─────────────────────────────────┼────────────────────────┼───────────────┤\n",
       "│ dropout_35 (<span style=\"color: #0087ff; text-decoration-color: #0087ff\">Dropout</span>)            │ (<span style=\"color: #00d7ff; text-decoration-color: #00d7ff\">None</span>, <span style=\"color: #00af00; text-decoration-color: #00af00\">60</span>, <span style=\"color: #00af00; text-decoration-color: #00af00\">64</span>)         │             <span style=\"color: #00af00; text-decoration-color: #00af00\">0</span> │\n",
       "├─────────────────────────────────┼────────────────────────┼───────────────┤\n",
       "│ batch_normalization_19          │ (<span style=\"color: #00d7ff; text-decoration-color: #00d7ff\">None</span>, <span style=\"color: #00af00; text-decoration-color: #00af00\">60</span>, <span style=\"color: #00af00; text-decoration-color: #00af00\">64</span>)         │           <span style=\"color: #00af00; text-decoration-color: #00af00\">256</span> │\n",
       "│ (<span style=\"color: #0087ff; text-decoration-color: #0087ff\">BatchNormalization</span>)            │                        │               │\n",
       "├─────────────────────────────────┼────────────────────────┼───────────────┤\n",
       "│ lstm_22 (<span style=\"color: #0087ff; text-decoration-color: #0087ff\">LSTM</span>)                  │ (<span style=\"color: #00d7ff; text-decoration-color: #00d7ff\">None</span>, <span style=\"color: #00af00; text-decoration-color: #00af00\">32</span>)             │        <span style=\"color: #00af00; text-decoration-color: #00af00\">12,416</span> │\n",
       "├─────────────────────────────────┼────────────────────────┼───────────────┤\n",
       "│ dropout_36 (<span style=\"color: #0087ff; text-decoration-color: #0087ff\">Dropout</span>)            │ (<span style=\"color: #00d7ff; text-decoration-color: #00d7ff\">None</span>, <span style=\"color: #00af00; text-decoration-color: #00af00\">32</span>)             │             <span style=\"color: #00af00; text-decoration-color: #00af00\">0</span> │\n",
       "├─────────────────────────────────┼────────────────────────┼───────────────┤\n",
       "│ batch_normalization_20          │ (<span style=\"color: #00d7ff; text-decoration-color: #00d7ff\">None</span>, <span style=\"color: #00af00; text-decoration-color: #00af00\">32</span>)             │           <span style=\"color: #00af00; text-decoration-color: #00af00\">128</span> │\n",
       "│ (<span style=\"color: #0087ff; text-decoration-color: #0087ff\">BatchNormalization</span>)            │                        │               │\n",
       "├─────────────────────────────────┼────────────────────────┼───────────────┤\n",
       "│ dense_22 (<span style=\"color: #0087ff; text-decoration-color: #0087ff\">Dense</span>)                │ (<span style=\"color: #00d7ff; text-decoration-color: #00d7ff\">None</span>, <span style=\"color: #00af00; text-decoration-color: #00af00\">64</span>)             │         <span style=\"color: #00af00; text-decoration-color: #00af00\">2,112</span> │\n",
       "├─────────────────────────────────┼────────────────────────┼───────────────┤\n",
       "│ dropout_37 (<span style=\"color: #0087ff; text-decoration-color: #0087ff\">Dropout</span>)            │ (<span style=\"color: #00d7ff; text-decoration-color: #00d7ff\">None</span>, <span style=\"color: #00af00; text-decoration-color: #00af00\">64</span>)             │             <span style=\"color: #00af00; text-decoration-color: #00af00\">0</span> │\n",
       "├─────────────────────────────────┼────────────────────────┼───────────────┤\n",
       "│ dense_23 (<span style=\"color: #0087ff; text-decoration-color: #0087ff\">Dense</span>)                │ (<span style=\"color: #00d7ff; text-decoration-color: #00d7ff\">None</span>, <span style=\"color: #00af00; text-decoration-color: #00af00\">32</span>)             │         <span style=\"color: #00af00; text-decoration-color: #00af00\">2,080</span> │\n",
       "├─────────────────────────────────┼────────────────────────┼───────────────┤\n",
       "│ dropout_38 (<span style=\"color: #0087ff; text-decoration-color: #0087ff\">Dropout</span>)            │ (<span style=\"color: #00d7ff; text-decoration-color: #00d7ff\">None</span>, <span style=\"color: #00af00; text-decoration-color: #00af00\">32</span>)             │             <span style=\"color: #00af00; text-decoration-color: #00af00\">0</span> │\n",
       "├─────────────────────────────────┼────────────────────────┼───────────────┤\n",
       "│ dense_24 (<span style=\"color: #0087ff; text-decoration-color: #0087ff\">Dense</span>)                │ (<span style=\"color: #00d7ff; text-decoration-color: #00d7ff\">None</span>, <span style=\"color: #00af00; text-decoration-color: #00af00\">16</span>)             │           <span style=\"color: #00af00; text-decoration-color: #00af00\">528</span> │\n",
       "├─────────────────────────────────┼────────────────────────┼───────────────┤\n",
       "│ dropout_39 (<span style=\"color: #0087ff; text-decoration-color: #0087ff\">Dropout</span>)            │ (<span style=\"color: #00d7ff; text-decoration-color: #00d7ff\">None</span>, <span style=\"color: #00af00; text-decoration-color: #00af00\">16</span>)             │             <span style=\"color: #00af00; text-decoration-color: #00af00\">0</span> │\n",
       "├─────────────────────────────────┼────────────────────────┼───────────────┤\n",
       "│ dense_25 (<span style=\"color: #0087ff; text-decoration-color: #0087ff\">Dense</span>)                │ (<span style=\"color: #00d7ff; text-decoration-color: #00d7ff\">None</span>, <span style=\"color: #00af00; text-decoration-color: #00af00\">1</span>)              │            <span style=\"color: #00af00; text-decoration-color: #00af00\">17</span> │\n",
       "└─────────────────────────────────┴────────────────────────┴───────────────┘\n",
       "</pre>\n"
      ],
      "text/plain": [
       "┏━━━━━━━━━━━━━━━━━━━━━━━━━━━━━━━━━┳━━━━━━━━━━━━━━━━━━━━━━━━┳━━━━━━━━━━━━━━━┓\n",
       "┃\u001b[1m \u001b[0m\u001b[1mLayer (type)                   \u001b[0m\u001b[1m \u001b[0m┃\u001b[1m \u001b[0m\u001b[1mOutput Shape          \u001b[0m\u001b[1m \u001b[0m┃\u001b[1m \u001b[0m\u001b[1m      Param #\u001b[0m\u001b[1m \u001b[0m┃\n",
       "┡━━━━━━━━━━━━━━━━━━━━━━━━━━━━━━━━━╇━━━━━━━━━━━━━━━━━━━━━━━━╇━━━━━━━━━━━━━━━┩\n",
       "│ masking_6 (\u001b[38;5;33mMasking\u001b[0m)             │ (\u001b[38;5;45mNone\u001b[0m, \u001b[38;5;34m60\u001b[0m, \u001b[38;5;34m6\u001b[0m)          │             \u001b[38;5;34m0\u001b[0m │\n",
       "├─────────────────────────────────┼────────────────────────┼───────────────┤\n",
       "│ lstm_20 (\u001b[38;5;33mLSTM\u001b[0m)                  │ (\u001b[38;5;45mNone\u001b[0m, \u001b[38;5;34m60\u001b[0m, \u001b[38;5;34m128\u001b[0m)        │        \u001b[38;5;34m69,120\u001b[0m │\n",
       "├─────────────────────────────────┼────────────────────────┼───────────────┤\n",
       "│ dropout_34 (\u001b[38;5;33mDropout\u001b[0m)            │ (\u001b[38;5;45mNone\u001b[0m, \u001b[38;5;34m60\u001b[0m, \u001b[38;5;34m128\u001b[0m)        │             \u001b[38;5;34m0\u001b[0m │\n",
       "├─────────────────────────────────┼────────────────────────┼───────────────┤\n",
       "│ batch_normalization_18          │ (\u001b[38;5;45mNone\u001b[0m, \u001b[38;5;34m60\u001b[0m, \u001b[38;5;34m128\u001b[0m)        │           \u001b[38;5;34m512\u001b[0m │\n",
       "│ (\u001b[38;5;33mBatchNormalization\u001b[0m)            │                        │               │\n",
       "├─────────────────────────────────┼────────────────────────┼───────────────┤\n",
       "│ lstm_21 (\u001b[38;5;33mLSTM\u001b[0m)                  │ (\u001b[38;5;45mNone\u001b[0m, \u001b[38;5;34m60\u001b[0m, \u001b[38;5;34m64\u001b[0m)         │        \u001b[38;5;34m49,408\u001b[0m │\n",
       "├─────────────────────────────────┼────────────────────────┼───────────────┤\n",
       "│ dropout_35 (\u001b[38;5;33mDropout\u001b[0m)            │ (\u001b[38;5;45mNone\u001b[0m, \u001b[38;5;34m60\u001b[0m, \u001b[38;5;34m64\u001b[0m)         │             \u001b[38;5;34m0\u001b[0m │\n",
       "├─────────────────────────────────┼────────────────────────┼───────────────┤\n",
       "│ batch_normalization_19          │ (\u001b[38;5;45mNone\u001b[0m, \u001b[38;5;34m60\u001b[0m, \u001b[38;5;34m64\u001b[0m)         │           \u001b[38;5;34m256\u001b[0m │\n",
       "│ (\u001b[38;5;33mBatchNormalization\u001b[0m)            │                        │               │\n",
       "├─────────────────────────────────┼────────────────────────┼───────────────┤\n",
       "│ lstm_22 (\u001b[38;5;33mLSTM\u001b[0m)                  │ (\u001b[38;5;45mNone\u001b[0m, \u001b[38;5;34m32\u001b[0m)             │        \u001b[38;5;34m12,416\u001b[0m │\n",
       "├─────────────────────────────────┼────────────────────────┼───────────────┤\n",
       "│ dropout_36 (\u001b[38;5;33mDropout\u001b[0m)            │ (\u001b[38;5;45mNone\u001b[0m, \u001b[38;5;34m32\u001b[0m)             │             \u001b[38;5;34m0\u001b[0m │\n",
       "├─────────────────────────────────┼────────────────────────┼───────────────┤\n",
       "│ batch_normalization_20          │ (\u001b[38;5;45mNone\u001b[0m, \u001b[38;5;34m32\u001b[0m)             │           \u001b[38;5;34m128\u001b[0m │\n",
       "│ (\u001b[38;5;33mBatchNormalization\u001b[0m)            │                        │               │\n",
       "├─────────────────────────────────┼────────────────────────┼───────────────┤\n",
       "│ dense_22 (\u001b[38;5;33mDense\u001b[0m)                │ (\u001b[38;5;45mNone\u001b[0m, \u001b[38;5;34m64\u001b[0m)             │         \u001b[38;5;34m2,112\u001b[0m │\n",
       "├─────────────────────────────────┼────────────────────────┼───────────────┤\n",
       "│ dropout_37 (\u001b[38;5;33mDropout\u001b[0m)            │ (\u001b[38;5;45mNone\u001b[0m, \u001b[38;5;34m64\u001b[0m)             │             \u001b[38;5;34m0\u001b[0m │\n",
       "├─────────────────────────────────┼────────────────────────┼───────────────┤\n",
       "│ dense_23 (\u001b[38;5;33mDense\u001b[0m)                │ (\u001b[38;5;45mNone\u001b[0m, \u001b[38;5;34m32\u001b[0m)             │         \u001b[38;5;34m2,080\u001b[0m │\n",
       "├─────────────────────────────────┼────────────────────────┼───────────────┤\n",
       "│ dropout_38 (\u001b[38;5;33mDropout\u001b[0m)            │ (\u001b[38;5;45mNone\u001b[0m, \u001b[38;5;34m32\u001b[0m)             │             \u001b[38;5;34m0\u001b[0m │\n",
       "├─────────────────────────────────┼────────────────────────┼───────────────┤\n",
       "│ dense_24 (\u001b[38;5;33mDense\u001b[0m)                │ (\u001b[38;5;45mNone\u001b[0m, \u001b[38;5;34m16\u001b[0m)             │           \u001b[38;5;34m528\u001b[0m │\n",
       "├─────────────────────────────────┼────────────────────────┼───────────────┤\n",
       "│ dropout_39 (\u001b[38;5;33mDropout\u001b[0m)            │ (\u001b[38;5;45mNone\u001b[0m, \u001b[38;5;34m16\u001b[0m)             │             \u001b[38;5;34m0\u001b[0m │\n",
       "├─────────────────────────────────┼────────────────────────┼───────────────┤\n",
       "│ dense_25 (\u001b[38;5;33mDense\u001b[0m)                │ (\u001b[38;5;45mNone\u001b[0m, \u001b[38;5;34m1\u001b[0m)              │            \u001b[38;5;34m17\u001b[0m │\n",
       "└─────────────────────────────────┴────────────────────────┴───────────────┘\n"
      ]
     },
     "metadata": {},
     "output_type": "display_data"
    },
    {
     "data": {
      "text/html": [
       "<pre style=\"white-space:pre;overflow-x:auto;line-height:normal;font-family:Menlo,'DejaVu Sans Mono',consolas,'Courier New',monospace\"><span style=\"font-weight: bold\"> Total params: </span><span style=\"color: #00af00; text-decoration-color: #00af00\">136,577</span> (533.50 KB)\n",
       "</pre>\n"
      ],
      "text/plain": [
       "\u001b[1m Total params: \u001b[0m\u001b[38;5;34m136,577\u001b[0m (533.50 KB)\n"
      ]
     },
     "metadata": {},
     "output_type": "display_data"
    },
    {
     "data": {
      "text/html": [
       "<pre style=\"white-space:pre;overflow-x:auto;line-height:normal;font-family:Menlo,'DejaVu Sans Mono',consolas,'Courier New',monospace\"><span style=\"font-weight: bold\"> Trainable params: </span><span style=\"color: #00af00; text-decoration-color: #00af00\">136,129</span> (531.75 KB)\n",
       "</pre>\n"
      ],
      "text/plain": [
       "\u001b[1m Trainable params: \u001b[0m\u001b[38;5;34m136,129\u001b[0m (531.75 KB)\n"
      ]
     },
     "metadata": {},
     "output_type": "display_data"
    },
    {
     "data": {
      "text/html": [
       "<pre style=\"white-space:pre;overflow-x:auto;line-height:normal;font-family:Menlo,'DejaVu Sans Mono',consolas,'Courier New',monospace\"><span style=\"font-weight: bold\"> Non-trainable params: </span><span style=\"color: #00af00; text-decoration-color: #00af00\">448</span> (1.75 KB)\n",
       "</pre>\n"
      ],
      "text/plain": [
       "\u001b[1m Non-trainable params: \u001b[0m\u001b[38;5;34m448\u001b[0m (1.75 KB)\n"
      ]
     },
     "metadata": {},
     "output_type": "display_data"
    }
   ],
   "source": [
    "window_size = 60  # Example window size\n",
    "feature_count = 6  # Number of features (e.g., open, high, low, close, volume, sentiment)\n",
    "model = build_model(window_size, feature_count)\n",
    "model.summary()"
   ]
  },
  {
   "cell_type": "code",
   "execution_count": 143,
   "metadata": {},
   "outputs": [
    {
     "name": "stdout",
     "output_type": "stream",
     "text": [
      "Epoch 1/25\n",
      "\u001b[1m99/99\u001b[0m \u001b[32m━━━━━━━━━━━━━━━━━━━━\u001b[0m\u001b[37m\u001b[0m \u001b[1m7s\u001b[0m 17ms/step - loss: 0.5517 - mae: 0.5154 - val_loss: 3.5430 - val_mae: 1.5005\n",
      "Epoch 2/25\n",
      "\u001b[1m99/99\u001b[0m \u001b[32m━━━━━━━━━━━━━━━━━━━━\u001b[0m\u001b[37m\u001b[0m \u001b[1m1s\u001b[0m 12ms/step - loss: 0.1743 - mae: 0.2911 - val_loss: 2.3924 - val_mae: 1.2444\n",
      "Epoch 3/25\n",
      "\u001b[1m99/99\u001b[0m \u001b[32m━━━━━━━━━━━━━━━━━━━━\u001b[0m\u001b[37m\u001b[0m \u001b[1m1s\u001b[0m 12ms/step - loss: 0.1268 - mae: 0.2378 - val_loss: 1.3079 - val_mae: 0.9793\n",
      "Epoch 4/25\n",
      "\u001b[1m99/99\u001b[0m \u001b[32m━━━━━━━━━━━━━━━━━━━━\u001b[0m\u001b[37m\u001b[0m \u001b[1m1s\u001b[0m 12ms/step - loss: 0.1101 - mae: 0.2344 - val_loss: 0.8855 - val_mae: 0.7919\n",
      "Epoch 5/25\n",
      "\u001b[1m99/99\u001b[0m \u001b[32m━━━━━━━━━━━━━━━━━━━━\u001b[0m\u001b[37m\u001b[0m \u001b[1m1s\u001b[0m 12ms/step - loss: 0.0999 - mae: 0.2198 - val_loss: 0.8265 - val_mae: 0.5728\n",
      "Epoch 6/25\n",
      "\u001b[1m99/99\u001b[0m \u001b[32m━━━━━━━━━━━━━━━━━━━━\u001b[0m\u001b[37m\u001b[0m \u001b[1m1s\u001b[0m 13ms/step - loss: 0.1013 - mae: 0.2086 - val_loss: 1.2297 - val_mae: 0.7793\n",
      "Epoch 7/25\n",
      "\u001b[1m99/99\u001b[0m \u001b[32m━━━━━━━━━━━━━━━━━━━━\u001b[0m\u001b[37m\u001b[0m \u001b[1m1s\u001b[0m 13ms/step - loss: 0.0820 - mae: 0.1940 - val_loss: 0.6425 - val_mae: 0.5660\n",
      "Epoch 8/25\n",
      "\u001b[1m99/99\u001b[0m \u001b[32m━━━━━━━━━━━━━━━━━━━━\u001b[0m\u001b[37m\u001b[0m \u001b[1m1s\u001b[0m 13ms/step - loss: 0.0813 - mae: 0.1892 - val_loss: 0.7640 - val_mae: 0.7247\n",
      "Epoch 9/25\n",
      "\u001b[1m99/99\u001b[0m \u001b[32m━━━━━━━━━━━━━━━━━━━━\u001b[0m\u001b[37m\u001b[0m \u001b[1m1s\u001b[0m 13ms/step - loss: 0.0887 - mae: 0.1985 - val_loss: 0.3763 - val_mae: 0.3515\n",
      "Epoch 10/25\n",
      "\u001b[1m99/99\u001b[0m \u001b[32m━━━━━━━━━━━━━━━━━━━━\u001b[0m\u001b[37m\u001b[0m \u001b[1m1s\u001b[0m 12ms/step - loss: 0.0809 - mae: 0.1867 - val_loss: 0.4872 - val_mae: 0.5867\n",
      "Epoch 11/25\n",
      "\u001b[1m99/99\u001b[0m \u001b[32m━━━━━━━━━━━━━━━━━━━━\u001b[0m\u001b[37m\u001b[0m \u001b[1m1s\u001b[0m 13ms/step - loss: 0.0776 - mae: 0.1839 - val_loss: 0.3666 - val_mae: 0.3861\n",
      "Epoch 12/25\n",
      "\u001b[1m99/99\u001b[0m \u001b[32m━━━━━━━━━━━━━━━━━━━━\u001b[0m\u001b[37m\u001b[0m \u001b[1m1s\u001b[0m 12ms/step - loss: 0.0724 - mae: 0.1788 - val_loss: 0.2461 - val_mae: 0.3322\n",
      "Epoch 13/25\n",
      "\u001b[1m99/99\u001b[0m \u001b[32m━━━━━━━━━━━━━━━━━━━━\u001b[0m\u001b[37m\u001b[0m \u001b[1m1s\u001b[0m 12ms/step - loss: 0.0639 - mae: 0.1780 - val_loss: 0.2981 - val_mae: 0.3374\n",
      "Epoch 14/25\n",
      "\u001b[1m99/99\u001b[0m \u001b[32m━━━━━━━━━━━━━━━━━━━━\u001b[0m\u001b[37m\u001b[0m \u001b[1m1s\u001b[0m 13ms/step - loss: 0.0629 - mae: 0.1714 - val_loss: 0.5727 - val_mae: 0.6164\n",
      "Epoch 15/25\n",
      "\u001b[1m99/99\u001b[0m \u001b[32m━━━━━━━━━━━━━━━━━━━━\u001b[0m\u001b[37m\u001b[0m \u001b[1m1s\u001b[0m 13ms/step - loss: 0.0651 - mae: 0.1705 - val_loss: 0.4059 - val_mae: 0.3798\n",
      "Epoch 16/25\n",
      "\u001b[1m99/99\u001b[0m \u001b[32m━━━━━━━━━━━━━━━━━━━━\u001b[0m\u001b[37m\u001b[0m \u001b[1m1s\u001b[0m 13ms/step - loss: 0.0632 - mae: 0.1639 - val_loss: 0.3164 - val_mae: 0.3496\n",
      "Epoch 17/25\n",
      "\u001b[1m99/99\u001b[0m \u001b[32m━━━━━━━━━━━━━━━━━━━━\u001b[0m\u001b[37m\u001b[0m \u001b[1m1s\u001b[0m 12ms/step - loss: 0.0596 - mae: 0.1638 - val_loss: 0.3489 - val_mae: 0.3710\n",
      "Epoch 18/25\n",
      "\u001b[1m99/99\u001b[0m \u001b[32m━━━━━━━━━━━━━━━━━━━━\u001b[0m\u001b[37m\u001b[0m \u001b[1m1s\u001b[0m 13ms/step - loss: 0.0533 - mae: 0.1607 - val_loss: 0.3947 - val_mae: 0.4231\n",
      "Epoch 19/25\n",
      "\u001b[1m99/99\u001b[0m \u001b[32m━━━━━━━━━━━━━━━━━━━━\u001b[0m\u001b[37m\u001b[0m \u001b[1m1s\u001b[0m 14ms/step - loss: 0.0548 - mae: 0.1558 - val_loss: 0.4388 - val_mae: 0.3806\n",
      "Epoch 20/25\n",
      "\u001b[1m99/99\u001b[0m \u001b[32m━━━━━━━━━━━━━━━━━━━━\u001b[0m\u001b[37m\u001b[0m \u001b[1m1s\u001b[0m 15ms/step - loss: 0.0506 - mae: 0.1566 - val_loss: 0.6054 - val_mae: 0.5629\n",
      "Epoch 21/25\n",
      "\u001b[1m99/99\u001b[0m \u001b[32m━━━━━━━━━━━━━━━━━━━━\u001b[0m\u001b[37m\u001b[0m \u001b[1m1s\u001b[0m 13ms/step - loss: 0.0505 - mae: 0.1528 - val_loss: 0.7387 - val_mae: 0.5206\n",
      "Epoch 22/25\n",
      "\u001b[1m99/99\u001b[0m \u001b[32m━━━━━━━━━━━━━━━━━━━━\u001b[0m\u001b[37m\u001b[0m \u001b[1m1s\u001b[0m 12ms/step - loss: 0.0532 - mae: 0.1559 - val_loss: 0.8120 - val_mae: 0.6191\n",
      "Epoch 23/25\n",
      "\u001b[1m99/99\u001b[0m \u001b[32m━━━━━━━━━━━━━━━━━━━━\u001b[0m\u001b[37m\u001b[0m \u001b[1m1s\u001b[0m 13ms/step - loss: 0.0483 - mae: 0.1461 - val_loss: 0.7998 - val_mae: 0.6789\n",
      "Epoch 24/25\n",
      "\u001b[1m99/99\u001b[0m \u001b[32m━━━━━━━━━━━━━━━━━━━━\u001b[0m\u001b[37m\u001b[0m \u001b[1m1s\u001b[0m 12ms/step - loss: 0.0460 - mae: 0.1437 - val_loss: 0.7650 - val_mae: 0.6420\n",
      "Epoch 25/25\n",
      "\u001b[1m99/99\u001b[0m \u001b[32m━━━━━━━━━━━━━━━━━━━━\u001b[0m\u001b[37m\u001b[0m \u001b[1m1s\u001b[0m 12ms/step - loss: 0.0502 - mae: 0.1524 - val_loss: 0.7611 - val_mae: 0.5253\n"
     ]
    }
   ],
   "source": [
    "history = model.fit(X_train, y_train, epochs=25, batch_size=32, validation_split=0.2)"
   ]
  },
  {
   "cell_type": "code",
   "execution_count": 144,
   "metadata": {},
   "outputs": [
    {
     "name": "stdout",
     "output_type": "stream",
     "text": [
      "X_test:  (1225, 14, 6)\n",
      "y_test:  (1225,)\n",
      "\u001b[1m39/39\u001b[0m \u001b[32m━━━━━━━━━━━━━━━━━━━━\u001b[0m\u001b[37m\u001b[0m \u001b[1m0s\u001b[0m 4ms/step - loss: 4.7545 - mae: 2.1750\n",
      "Test Loss: [4.587826728820801, 2.1376962661743164]\n"
     ]
    }
   ],
   "source": [
    "# Scale test set\n",
    "scaler = MinMaxScaler()\n",
    "testing_set = scaler.fit_transform(testing_set)\n",
    "\n",
    "# Get X and y from testing set\n",
    "X_test, y_test = get_x_y(testing_set, 14, 4, 6)\n",
    "print(\"X_test: \", X_test.shape)\n",
    "print(\"y_test: \", y_test.shape)\n",
    "\n",
    "loss = model.evaluate(X_test, y_test)\n",
    "print(f'Test Loss: {loss}')"
   ]
  },
  {
   "cell_type": "code",
   "execution_count": 145,
   "metadata": {},
   "outputs": [
    {
     "data": {
      "text/plain": [
       "<matplotlib.legend.Legend at 0x1d81808f990>"
      ]
     },
     "execution_count": 145,
     "metadata": {},
     "output_type": "execute_result"
    },
    {
     "data": {
      "image/png": "[encoded data removed]",
      "text/plain": [
       "<Figure size 1400x600 with 1 Axes>"
      ]
     },
     "metadata": {},
     "output_type": "display_data"
    }
   ],
   "source": [
    "# Plot training & validation loss values\n",
    "plt.figure(figsize=(14, 6))\n",
    "\n",
    "plt.subplot(1, 2, 1)\n",
    "plt.plot(history.history['loss'])\n",
    "plt.plot(history.history['val_loss'])\n",
    "plt.title('Model Loss')\n",
    "plt.ylabel('Loss')\n",
    "plt.xlabel('Epoch')\n",
    "plt.legend(['Train', 'Validation'], loc='upper right')"
   ]
  },
  {
   "cell_type": "code",
   "execution_count": 146,
   "metadata": {},
   "outputs": [
    {
     "name": "stdout",
     "output_type": "stream",
     "text": [
      "\u001b[1m39/39\u001b[0m \u001b[32m━━━━━━━━━━━━━━━━━━━━\u001b[0m\u001b[37m\u001b[0m \u001b[1m1s\u001b[0m 15ms/step\n"
     ]
    },
    {
     "data": {
      "image/png": "[encoded data removed]",
      "text/plain": [
       "<Figure size 1400x600 with 1 Axes>"
      ]
     },
     "metadata": {},
     "output_type": "display_data"
    }
   ],
   "source": [
    "# Generate predictions\n",
    "y_pred = model.predict(X_test)\n",
    "\n",
    "# Plot predictions vs actual results\n",
    "plt.figure(figsize=(14, 6))\n",
    "plt.plot(y_test, color='blue', label='Actual')\n",
    "plt.plot(y_pred, color='red', label='Predicted')\n",
    "plt.title('Predictions vs Actual')\n",
    "plt.xlabel('Time')\n",
    "plt.ylabel('Stock Price')\n",
    "plt.legend(['Actual', 'Predicted'], loc='upper right')\n",
    "plt.show()"
   ]
  },
  {
   "cell_type": "code",
   "execution_count": 147,
   "metadata": {},
   "outputs": [
    {
     "name": "stdout",
     "output_type": "stream",
     "text": [
      "Evaluate on test data\n",
      "\u001b[1m39/39\u001b[0m \u001b[32m━━━━━━━━━━━━━━━━━━━━\u001b[0m\u001b[37m\u001b[0m \u001b[1m0s\u001b[0m 4ms/step - loss: 4.7545 - mae: 2.1750\n",
      "test loss, test acc: [4.587826728820801, 2.1376962661743164]\n"
     ]
    }
   ],
   "source": [
    "print(\"Evaluate on test data\")\n",
    "results = model.evaluate(X_test, y_test)\n",
    "print(\"test loss, test acc:\", results)"
   ]
  },
  {
   "cell_type": "code",
   "execution_count": null,
   "metadata": {},
   "outputs": [],
   "source": []
  }
 ],
 "metadata": {
  "kernelspec": {
   "display_name": "CS172B311",
   "language": "python",
   "name": "python3"
  },
  "language_info": {
   "codemirror_mode": {
    "name": "ipython",
    "version": 3
   },
   "file_extension": ".py",
   "mimetype": "text/x-python",
   "name": "python",
   "nbconvert_exporter": "python",
   "pygments_lexer": "ipython3",
   "version": "3.11.9"
  }
 },
 "nbformat": 4,
 "nbformat_minor": 2
}
